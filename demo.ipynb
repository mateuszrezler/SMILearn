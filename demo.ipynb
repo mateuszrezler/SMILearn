{
 "cells": [
  {
   "cell_type": "markdown",
   "metadata": {},
   "source": [
    "# **SMILearn**\n",
    "*A feature engineering module for deep learning models, based on a  SMILES representation of chemical compounds.*  \n",
    "This notebook is an example study showing how to construct and customize TensorFlow pipelines using SMILearn objects."
   ]
  },
  {
   "cell_type": "markdown",
   "metadata": {},
   "source": [
    "## 1. Introduction"
   ]
  },
  {
   "cell_type": "markdown",
   "metadata": {},
   "source": [
    "### 1.1. Aim of the study\n",
    "This study aims to find the simplest possible feature matrices, generated from SMILES strings, as inputs for neural networks, without significant loss of the accuracy compared to more complex reference matrices."
   ]
  },
  {
   "cell_type": "markdown",
   "metadata": {},
   "source": [
    "### 1.2. SMILES notation\n",
    "The structure of a chemical compound can be described in a linear form (string) following the rules of the simplified molecular-input line-entry system (SMILES).<sup>[1][2]</sup><br/><br/>\n",
    "Brief description:\n",
    "* Atoms are represented by their symbols in square brackets which can be omitted in case of the most common symbols (`B`, `C`, `N`, `O`, `F`, `P`, `S`, `Cl`, `Br`, `I`) when they have default properties. Lower case symbols describe atoms in aromatic rings. By default, hydrogen atoms are not shown explicitly. Their number is calculated from the difference in the number of implicit and explicit bonds.\n",
    "* Bonds are specified by the symbols:  \n",
    "`.` - ionic,  \n",
    "`-` - single,  \n",
    "`/`, `\\` - single up and down respectively (next to a double bond),  \n",
    "`:` - aromatic (between single and double),  \n",
    "`=` - double,  \n",
    "`#` - triple.  \n",
    "By default, single and aromatic bonds are not shown explicitly.\n",
    "* Branches are represented by the parentheses.\n",
    "* Ring connections are specified by the pairs of digit indices.\n",
    "* Additional symbols inside square brackets describe charge (`+`, `-`) or chirality (`@`, `@@`)\n",
    "<br/><br/>\n",
    "\n",
    "**Examples**\n",
    "\n",
    "Compound name | Condensed structural formula | SMILES | Comments\n",
    "--- | --- | --- | ---\n",
    "Ethanol | CH<sub>3</sub>CH<sub>2</sub>OH | `CCO` | All atoms have default properties (neutral charge, no chirality, typical valence, etc.),<br/>and are not written in square brackets.<br/>Hydrogen atoms and single bonds can be implict.\n",
    "Calcium hypochlorite | Ca(ClO)<sub>2</sub> | `[Ca+2].[O-]Cl.[O-]Cl` | Atoms with charges are written in square brackets.<br/>Ionic bonds must be shown but single bonds not.\n",
    "Silicon dioxide | SiO<sub>2</sub> | `O=[Si]=O` | Silicon is not present in the most common symbols set and must be written in square brackets.<br/>Double bonds must be explicit.\n",
    "L-Lactonitrile | CH<sub>3</sub>CH(OH)CN | `C[C@@H](O)C#N` | Oxygen atom is inside a branch.<br/>Stereogenic carbon atom is written in square brackets with chiral tag.<br/>Single bonds can be implicit, but triple bond not.\n",
    "*trans*-Cinnamic acid | C<sub>6</sub>H<sub>6</sub>CHCHCOOH | `c1ccccc1/C=C/C(=O)O` | Ring connection is denoted by a pair of digits.<br/>Carbon atoms in the aromatic ring are written in lower case.<br/>Double, single up and single down bonds must be shown but aromatic bonds not.\n",
    "<br/><br/>\n",
    "\n",
    "**SMILES generation algorithm**  \n",
    "<sup>*Source*: https://en.wikipedia.org/wiki/Simplified_molecular-input_line-entry_system</sup>  \n",
    "![alt text][fig1]\n",
    "\n",
    "[fig1]: https://upload.wikimedia.org/wikipedia/commons/thumb/0/00/SMILES.png/300px-SMILES.png 'SMILES generation algorithm'"
   ]
  },
  {
   "cell_type": "markdown",
   "metadata": {},
   "source": [
    "## 2. Materials and methods"
   ]
  },
  {
   "cell_type": "markdown",
   "metadata": {},
   "source": [
    "### 2.1. Prerequisites"
   ]
  },
  {
   "cell_type": "markdown",
   "metadata": {},
   "source": [
    "#### 2.1.1. Installations (Google Colab only)"
   ]
  },
  {
   "cell_type": "code",
   "execution_count": 1,
   "metadata": {},
   "outputs": [
    {
     "name": "stdout",
     "output_type": "stream",
     "text": [
      "Google Colab mode is off.\n",
      "CPU times: user 0 ns, sys: 1.35 ms, total: 1.35 ms\n",
      "Wall time: 748 µs\n"
     ]
    }
   ],
   "source": [
    "%%time\n",
    "try:\n",
    "    from google.colab import output\n",
    "    !git clone -q https://github.com/mateuszrezler/smilearn.git\n",
    "    %cd -q smilearn\n",
    "    from src import colab_setup\n",
    "    %tensorflow_version 2.x\n",
    "except ModuleNotFoundError:\n",
    "    colab_mode = False\n",
    "on_off = {True: 'on', False: 'off'}\n",
    "print(f'Google Colab mode is {on_off[colab_mode]}.')"
   ]
  },
  {
   "cell_type": "markdown",
   "metadata": {},
   "source": [
    "#### 2.1.2. Imports"
   ]
  },
  {
   "cell_type": "code",
   "execution_count": 2,
   "metadata": {},
   "outputs": [],
   "source": [
    "# todo: check if some modules are redundant\n",
    "from numpy import array, expand_dims, mean, std\n",
    "from numpy.random import seed\n",
    "from pandas import DataFrame, read_csv\n",
    "from seaborn import heatmap\n",
    "from sklearn.metrics import make_scorer, roc_auc_score\n",
    "from sklearn.model_selection import train_test_split, StratifiedKFold\n",
    "from sklearn.pipeline import FeatureUnion, Pipeline\n",
    "from src.atom import *\n",
    "from src.structure import *\n",
    "from src.pipeline import *\n",
    "from tensorflow.keras.layers import Conv1D, Dense, Dropout, \\\n",
    "    GlobalMaxPooling1D, MaxPooling1D\n",
    "from tensorflow.keras.callbacks import EarlyStopping, History\n",
    "from tensorflow.keras.models import Sequential\n",
    "# checked\n",
    "from rdkit.Chem.Draw import MolToImage"
   ]
  },
  {
   "cell_type": "markdown",
   "metadata": {},
   "source": [
    "### 2.2. SMILearn\n",
    "This section is a short demo of SMILearn package, a toolkit for making feature matrices directly from SMILES strings.  \n",
    "It consists of three modules:\n",
    "* `atom` - a set of functions extracting specific features from a single atom,\n",
    "* `structure` - functions pulling out features directly from SMILES characters,\n",
    "* `pipeline` - a collection of transformers implemented to work in scikit-learn pipelines.\n",
    "<br/><br/>\n",
    "\n",
    "**Examples of usage**  \n",
    "Adenosine monophosphate magnesium salt is a complex compound with various types of atoms and bonds.  \n",
    "Making of `rdkit.Chem.rdchem.Mol` object is needed to explore features of its atoms, bonds, branches and rings."
   ]
  },
  {
   "cell_type": "code",
   "execution_count": 3,
   "metadata": {},
   "outputs": [
    {
     "data": {
      "image/png": "[encoded data removed]",
      "text/plain": [
       "<PIL.Image.Image image mode=RGB size=300x300 at 0x7F67136F21D0>"
      ]
     },
     "execution_count": 3,
     "metadata": {},
     "output_type": "execute_result"
    }
   ],
   "source": [
    "MgAMP_smiles = '[Mg+2].C1=NC(=C2C(=N1)N(C=N2)[C@H]3[C@@H]([C@@H]([C@H](O3)C\\\n",
    "OP(=O)([O-])[O-])O)O)N'\n",
    "mol = MolFromSmiles(MgAMP_smiles)\n",
    "MolToImage(mol)"
   ]
  },
  {
   "cell_type": "markdown",
   "metadata": {},
   "source": [
    "Brief description of functions availabale in `atom` module:\n",
    "1. `has_chiral_tag` - returns `1.0` when atom has specified chiral tag,\n",
    "2. `has_hybridization` - returns `1.0` when atom has specified hybridization,\n",
    "3. `has_no_symbol` - returns `1.0` when atom has none of the symbols given,\n",
    "4. `has_symbol` - returns `1.0` when atom has one of the symbols given,\n",
    "5. `is_aromatic` - returns `1.0` when atom is a part of an aromatic ring,\n",
    "6. `is_metal` - returns `1.0` when atom is metal,\n",
    "7. `is_metalloid` - returns `1.0` when atom is metalloid,\n",
    "8. `is_in_ring` - returns `1.0` when atom is a part of a ring,\n",
    "9. `get_atom_num` - returns atomic number,\n",
    "10. `get_charge` - returns formal charge with `shift` value added (set to `0` by default,\n",
    "11. `get_degree` - returns degree of substitution,\n",
    "12. `get_group` - returns group number (in periodic table),\n",
    "13. `get_num_hs` - returns total number of connected hydrogen atoms,\n",
    "14. `get_period` - returns period number (in periodic table),\n",
    "15. `get_valence` - returns total valence.\n",
    "\n",
    "<small>By default, abovementioned functions return `float` values. This can be changed by setting `astype` parameter.  \n",
    "Functions 9-15 return values divided by `maxval` parameter (set to `1` by default).</small>"
   ]
  },
  {
   "cell_type": "code",
   "execution_count": null,
   "metadata": {},
   "outputs": [],
   "source": [
    "# reference featurizer\n",
    "data = read_csv('datasets/tox21.csv')\n",
    "X_raw = DataFrame(data['smiles'])\n",
    "y_raw = DataFrame(data['NR-AR'])\n",
    "af = [has_symbol('H'),\n",
    "      has_symbol('C'),\n",
    "      has_symbol('O'),\n",
    "      has_symbol('N'),\n",
    "      has_no_symbols('HCON'),\n",
    "      get_num_hs(maxval=8),\n",
    "      get_degree(maxval=4),\n",
    "      get_charge(maxval=8),\n",
    "      get_valence(maxval=8),\n",
    "      is_in_ring(),\n",
    "      is_aromatic(),\n",
    "      lambda mol, index: 0,\n",
    "      has_chiral_tag('CHI_TETRAHEDRAL_CW'),\n",
    "      has_chiral_tag('CHI_TETRAHEDRAL_CCW'),\n",
    "      lambda mol, index: 0,\n",
    "      has_hybridization('S'),\n",
    "      has_hybridization('SP'),\n",
    "      has_hybridization('SP2'),\n",
    "      has_hybridization('SP3'),\n",
    "      has_hybridization('SP3D'),\n",
    "      has_hybridization('SP3D2')]\n",
    "sf = [is_char(char) for char in '()[].:=#\\\\/@+-234567<>']\n",
    "Xpipeline = Pipeline(\n",
    "    [\n",
    "     ('rebuild_smiles',\n",
    "      SmilesRebuilder(columns=['smiles'],\n",
    "                      kekuleSmiles=False,\n",
    "                      isomericSmiles=True)),\n",
    "     ('build_isomer_smiles',\n",
    "      SmilesRebuilder(columns=['smiles'],\n",
    "                      kekuleSmiles=True,\n",
    "                      isomericSmiles=True,\n",
    "                      save_as=['isomer_smiles'])),\n",
    "     ('insert_ring_tags',\n",
    "      RingTagInserter(columns=['isomer_smiles'])),\n",
    "     ('tokenize_smiles',\n",
    "      RegexTokenizer(columns=['isomer_smiles'],\n",
    "                     regex=r'.')),\n",
    "     ('vectorize_smiles',\n",
    "      SmilesVectorizer(smiles_column='smiles',\n",
    "                       tokens_column='isomer_smiles',\n",
    "                       ignore_regex=r'[a-z]',\n",
    "                       atom_regex=r'[A-Z]',\n",
    "                       atom_functions=af,\n",
    "                       struct_functions=sf,\n",
    "                       max_len=400,\n",
    "                       h_vector=True))\n",
    "    ],\n",
    "    verbose=True\n",
    ")\n",
    "ypipeline = Pipeline(\n",
    "    [\n",
    "     ('fill_nans',\n",
    "      NanFiller()),\n",
    "     ('convert_to_array',\n",
    "      ToArrayConverter())\n",
    "    ],\n",
    "    verbose=True\n",
    ")\n",
    "X = Xpipeline.fit_transform(X_raw)\n",
    "y = ypipeline.fit_transform(y_raw)"
   ]
  }
 ],
 "metadata": {
  "kernelspec": {
   "display_name": "Python 3",
   "language": "python",
   "name": "python3"
  },
  "language_info": {
   "codemirror_mode": {
    "name": "ipython",
    "version": 3
   },
   "file_extension": ".py",
   "mimetype": "text/x-python",
   "name": "python",
   "nbconvert_exporter": "python",
   "pygments_lexer": "ipython3",
   "version": "3.6.10"
  }
 },
 "nbformat": 4,
 "nbformat_minor": 2
}
