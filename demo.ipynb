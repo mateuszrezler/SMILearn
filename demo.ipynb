{
 "cells": [
  {
   "cell_type": "markdown",
   "metadata": {},
   "source": [
    "# **SMILearn**\n",
    "*A feature engineering module for deep learning models, based on a  SMILES representation of chemical compounds.*  \n",
    "This notebook is an example study showing how to construct and customize TensorFlow pipelines using SMILearn objects."
   ]
  },
  {
   "cell_type": "markdown",
   "metadata": {},
   "source": [
    "## 1. Introduction"
   ]
  },
  {
   "cell_type": "markdown",
   "metadata": {},
   "source": [
    "### 1.1. Aim of the study\n",
    "This study aims to find the simplest possible feature matrices, generated from SMILES strings, as inputs for neural networks, without significant loss of the accuracy compared to more complex reference matrices."
   ]
  },
  {
   "cell_type": "markdown",
   "metadata": {},
   "source": [
    "### 1.2. SMILES notation\n",
    "The structure of a chemical compound can be described in a linear form (string) following the rules of the simplified molecular-input line-entry system (SMILES).<sup>[1][2]</sup><br/><br/>\n",
    "Brief description:\n",
    "* Atoms are represented by their symbols in square brackets which can be omitted in case of the most common symbols (`B`, `C`, `N`, `O`, `F`, `P`, `S`, `Cl`, `Br`, `I`) when they have default properties. Lower case symbols describe atoms in aromatic rings. By default, hydrogen atoms are not shown explicitly. Their number is calculated from the difference in the number of implicit and explicit bonds.\n",
    "* Bonds are specified by the symbols:  \n",
    "`.` - ionic,  \n",
    "`-` - single,  \n",
    "`/`, `\\` - single up and down respectively (next to a double bond),  \n",
    "`:` - aromatic (between single and double),  \n",
    "`=` - double,  \n",
    "`#` - triple.  \n",
    "By default, single and aromatic bonds are not shown explicitly.\n",
    "* Branches are represented by the parentheses.\n",
    "* Ring connections are specified by the pairs of digit indices.\n",
    "* Additional symbols inside square brackets describe charge (`+`, `-`) or chirality (`@`, `@@`)<br/><br/>\n",
    "#### Examples:\n",
    "\n",
    "Compound name | Condensed structural formula | SMILES | Comments\n",
    "--- | --- | --- | ---\n",
    "Ethanol | CH<sub>3</sub>CH<sub>2</sub>OH | `CCO` | All atoms have default properties (neutral charge, no chirality, typical valence, etc.),<br/>and are not written in square brackets.<br/>Hydrogen atoms and single bonds can be implict.\n",
    "Calcium hypochlorite | Ca(ClO)<sub>2</sub> | `[Ca+2].[O-]Cl.[O-]Cl` | Atoms with charges are written in square brackets.<br/>Ionic bonds must be shown but single bonds not.\n",
    "Silicon dioxide | SiO<sub>2</sub> | `O=[Si]=O` | Silicon is not present in the most common symbols set and must be written in square brackets.<br/>Double bonds must be explicit.\n",
    "L-Lactonitrile | CH<sub>3</sub>CH(OH)CN | `C[C@@H](O)C#N` | Oxygen atom is inside a branch.<br/>Stereogenic carbon atom is written in square brackets with chiral tag.<br/>Single bonds can be implicit, but triple bond not.\n",
    "*trans*-Cinnamic acid | C<sub>6</sub>H<sub>6</sub>CHCHCOOH | `c1ccccc1/C=C/C(=O)O` | Ring connection is denoted by a pair of digits.<br/>Carbon atoms in the aromatic ring are written in lower case.<br/>Double, single up and single down bonds must be shown but aromatic bonds not.\n",
    "\n",
    "<br/><br/>\n",
    "\n",
    "![alt text][logo]\n",
    "\n",
    "**Fig. 1.** An illustration of SMILES generation algorithm.  \n",
    "*Source*: https://en.wikipedia.org/wiki/Simplified_molecular-input_line-entry_system\n",
    "\n",
    "[logo]: https://upload.wikimedia.org/wikipedia/commons/thumb/0/00/SMILES.png/300px-SMILES.png 'SMILES generation algorithm'"
   ]
  },
  {
   "cell_type": "markdown",
   "metadata": {},
   "source": [
    "## 2. Materials and methods"
   ]
  },
  {
   "cell_type": "markdown",
   "metadata": {},
   "source": [
    "### 2.1. Prerequisites"
   ]
  },
  {
   "cell_type": "markdown",
   "metadata": {},
   "source": [
    "#### 2.1.1. Installations (Google Colab only)"
   ]
  },
  {
   "cell_type": "code",
   "execution_count": null,
   "metadata": {},
   "outputs": [],
   "source": [
    "%%time\n",
    "try:\n",
    "    from google.colab import output\n",
    "    !git clone -q https://github.com/mateuszrezler/smilearn.git\n",
    "    %cd -q smilearn\n",
    "    from src import colab_setup\n",
    "    %tensorflow_version 2.x\n",
    "except ModuleNotFoundError:\n",
    "    pass"
   ]
  },
  {
   "cell_type": "code",
   "execution_count": null,
   "metadata": {},
   "outputs": [],
   "source": [
    "# reference featurizer\n",
    "data = read_csv('datasets/tox21.csv')\n",
    "X_raw = DataFrame(data['smiles'])\n",
    "y_raw = DataFrame(data['NR-AR'])\n",
    "af = [has_symbol('H'),\n",
    "      has_symbol('C'),\n",
    "      has_symbol('O'),\n",
    "      has_symbol('N'),\n",
    "      has_no_symbols('HCON'),\n",
    "      get_num_hs(maxval=8),\n",
    "      get_degree(maxval=4),\n",
    "      get_charge(maxval=8),\n",
    "      get_valence(maxval=8),\n",
    "      is_in_ring(),\n",
    "      is_aromatic(),\n",
    "      lambda mol, index: 0,\n",
    "      has_chiral_tag('CHI_TETRAHEDRAL_CW'),\n",
    "      has_chiral_tag('CHI_TETRAHEDRAL_CCW'),\n",
    "      lambda mol, index: 0,\n",
    "      has_hybridization('S'),\n",
    "      has_hybridization('SP'),\n",
    "      has_hybridization('SP2'),\n",
    "      has_hybridization('SP3'),\n",
    "      has_hybridization('SP3D'),\n",
    "      has_hybridization('SP3D2')]\n",
    "sf = [is_char(char) for char in '()[].:=#\\\\/@+-234567<>']\n",
    "Xpipeline = Pipeline(\n",
    "    [\n",
    "     ('rebuild_smiles',\n",
    "      SmilesRebuilder(columns=['smiles'],\n",
    "                      kekuleSmiles=False,\n",
    "                      isomericSmiles=True)),\n",
    "     ('build_isomer_smiles',\n",
    "      SmilesRebuilder(columns=['smiles'],\n",
    "                      kekuleSmiles=True,\n",
    "                      isomericSmiles=True,\n",
    "                      save_as=['isomer_smiles'])),\n",
    "     ('insert_ring_tags',\n",
    "      RingTagInserter(columns=['isomer_smiles'])),\n",
    "     ('tokenize_smiles',\n",
    "      RegexTokenizer(columns=['isomer_smiles'],\n",
    "                     regex=r'.')),\n",
    "     ('vectorize_smiles',\n",
    "      SmilesVectorizer(smiles_column='smiles',\n",
    "                       tokens_column='isomer_smiles',\n",
    "                       ignore_regex=r'[a-z]',\n",
    "                       atom_regex=r'[A-Z]',\n",
    "                       atom_functions=af,\n",
    "                       struct_functions=sf,\n",
    "                       max_len=400,\n",
    "                       h_vector=True))\n",
    "    ],\n",
    "    verbose=True\n",
    ")\n",
    "ypipeline = Pipeline(\n",
    "    [\n",
    "     ('fill_nans',\n",
    "      NanFiller()),\n",
    "     ('convert_to_array',\n",
    "      ToArrayConverter())\n",
    "    ],\n",
    "    verbose=True\n",
    ")\n",
    "X = Xpipeline.fit_transform(X_raw)\n",
    "y = ypipeline.fit_transform(y_raw)"
   ]
  }
 ],
 "metadata": {
  "kernelspec": {
   "display_name": "Python 3",
   "language": "python",
   "name": "python3"
  },
  "language_info": {
   "codemirror_mode": {
    "name": "ipython",
    "version": 3
   },
   "file_extension": ".py",
   "mimetype": "text/x-python",
   "name": "python",
   "nbconvert_exporter": "python",
   "pygments_lexer": "ipython3",
   "version": "3.6.10"
  }
 },
 "nbformat": 4,
 "nbformat_minor": 2
}
