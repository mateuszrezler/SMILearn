{
 "cells": [
  {
   "cell_type": "markdown",
   "metadata": {},
   "source": [
    "# SMILearn\n",
    "Feature engineering module for machine learning models based on SMILES representaion of chemical compounds.  \n",
    "This is a demo of customizable SMILearn featurizer capabilities together with an example of use in benchmark machine learning task."
   ]
  },
  {
   "cell_type": "markdown",
   "metadata": {},
   "source": [
    "## Prerequisites"
   ]
  },
  {
   "cell_type": "markdown",
   "metadata": {},
   "source": [
    "### Installations (Google Colab only)"
   ]
  },
  {
   "cell_type": "code",
   "execution_count": null,
   "metadata": {},
   "outputs": [],
   "source": [
    "%%time\n",
    "try:\n",
    "    import google.colab\n",
    "    !git clone -q https://github.com/mateuszrezler/smilearn.git\n",
    "    %cd -q smilearn\n",
    "    from src import colab_setup\n",
    "except ModuleNotFoundError:\n",
    "    pass"
   ]
  },
  {
   "cell_type": "code",
   "execution_count": null,
   "metadata": {},
   "outputs": [],
   "source": [
    "# reference featurizer\n",
    "data = read_csv('datasets/tox21.csv')\n",
    "X_raw = DataFrame(data['smiles'])\n",
    "y_raw = DataFrame(data['NR-AR'])\n",
    "af = [has_symbol('H'),\n",
    "      has_symbol('C'),\n",
    "      has_symbol('O'),\n",
    "      has_symbol('N'),\n",
    "      has_no_symbols('HCON'),\n",
    "      get_num_hs(maxval=8),\n",
    "      get_degree(maxval=4),\n",
    "      get_charge(maxval=8),\n",
    "      get_valence(maxval=8),\n",
    "      is_in_ring(),\n",
    "      is_aromatic(),\n",
    "      lambda mol, index: 0,\n",
    "      has_chiral_tag('CHI_TETRAHEDRAL_CW'),\n",
    "      has_chiral_tag('CHI_TETRAHEDRAL_CCW'),\n",
    "      lambda mol, index: 0,\n",
    "      has_hybridization('S'),\n",
    "      has_hybridization('SP'),\n",
    "      has_hybridization('SP2'),\n",
    "      has_hybridization('SP3'),\n",
    "      has_hybridization('SP3D'),\n",
    "      has_hybridization('SP3D2')]\n",
    "sf = [is_char(char) for char in '()[].:=#\\\\/@+-234567<>']\n",
    "Xpipeline = Pipeline(\n",
    "    [\n",
    "     ('rebuild_smiles',\n",
    "      SmilesRebuilder(columns=['smiles'],\n",
    "                      kekuleSmiles=False,\n",
    "                      isomericSmiles=True)),\n",
    "     ('build_isomer_smiles',\n",
    "      SmilesRebuilder(columns=['smiles'],\n",
    "                      kekuleSmiles=True,\n",
    "                      isomericSmiles=True,\n",
    "                      save_as=['isomer_smiles'])),\n",
    "     ('insert_ring_tags',\n",
    "      RingTagInserter(columns=['isomer_smiles'])),\n",
    "     ('tokenize_smiles',\n",
    "      RegexTokenizer(columns=['isomer_smiles'],\n",
    "                     regex=r'.')),\n",
    "     ('vectorize_smiles',\n",
    "      SmilesVectorizer(smiles_column='smiles',\n",
    "                       tokens_column='isomer_smiles',\n",
    "                       ignore_regex=r'[a-z]',\n",
    "                       atom_regex=r'[A-Z]',\n",
    "                       atom_functions=af,\n",
    "                       struct_functions=sf,\n",
    "                       max_len=400,\n",
    "                       h_vector=True))\n",
    "    ],\n",
    "    verbose=True\n",
    ")\n",
    "ypipeline = Pipeline(\n",
    "    [\n",
    "     ('fill_nans',\n",
    "      NanFiller()),\n",
    "     ('convert_to_array',\n",
    "      ToArrayConverter())\n",
    "    ],\n",
    "    verbose=True\n",
    ")\n",
    "X = Xpipeline.fit_transform(X_raw)\n",
    "y = ypipeline.fit_transform(y_raw)"
   ]
  }
 ],
 "metadata": {
  "kernelspec": {
   "display_name": "Python 3",
   "language": "python",
   "name": "python3"
  },
  "language_info": {
   "codemirror_mode": {
    "name": "ipython",
    "version": 3
   },
   "file_extension": ".py",
   "mimetype": "text/x-python",
   "name": "python",
   "nbconvert_exporter": "python",
   "pygments_lexer": "ipython3",
   "version": "3.7.4"
  }
 },
 "nbformat": 4,
 "nbformat_minor": 2
}
