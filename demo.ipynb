{
 "cells": [
  {
   "cell_type": "markdown",
   "metadata": {},
   "source": [
    "# **SMILearn**"
   ]
  },
  {
   "cell_type": "markdown",
   "metadata": {},
   "source": [
    "This notebook is an example study showing how to construct and customize scikit-learn pipelines using SMILearn objects.  \n",
    "<sup>Submitted in March 2020 in partial fulfilment of the requirements for completion of [Kodołamacz Data Science Bootcamp](https://www.kodolamacz.pl/bootcamp-datascience/).</sup><br/><br/>\n",
    "[![Open in Colab](https://colab.research.google.com/assets/colab-badge.svg)](https://colab.research.google.com/github/mateuszrezler/smilearn/blob/master/demo.ipynb)\n",
    "\n",
    "Output is cleared to save disk space. Notebook with full output is available as [zip file](demo.zip)."
   ]
  },
  {
   "cell_type": "markdown",
   "metadata": {},
   "source": [
    "## Table of contents\n",
    "1. Introduction  \n",
    "&emsp;1.1. Aim of the study\n",
    "2. Materials and methods  \n",
    "&emsp;2.1. Prerequisites  \n",
    "&emsp;&emsp;2.1.1. Installations *(Google Colab only)*  \n",
    "&emsp;&emsp;2.1.2. Imports  \n",
    "&emsp;2.2. Constants  \n",
    "&emsp;2.3. SMILearn package  \n",
    "&emsp;&emsp;2.2.1. `atom` module  \n",
    "&emsp;&emsp;2.2.2. `structure` module  \n",
    "&emsp;&emsp;2.2.3. `pipeline` module  \n",
    "&emsp;2.4. Dataset  \n",
    "&emsp;&emsp;2.4.1. Source  \n",
    "&emsp;&emsp;2.4.2. Exploration of raw data  \n",
    "&emsp;&emsp;2.4.3. Preprocessing  \n",
    "&emsp;&emsp;2.4.4. Reference pipeline  \n",
    "&emsp;&emsp;2.4.5. Alternative pipelines  \n",
    "&emsp;&emsp;2.4.6. Visualization of feature matrices  \n",
    "&emsp;2.4. Model  \n",
    "&emsp;&emsp;2.4.1. Model definition  \n",
    "&emsp;&emsp;2.4.2. Cross validation  \n",
    "3. Results and discussion  \n",
    "4. Conclusion\n",
    "5. References"
   ]
  },
  {
   "cell_type": "markdown",
   "metadata": {},
   "source": [
    "## 1. Introduction"
   ]
  },
  {
   "cell_type": "markdown",
   "metadata": {},
   "source": [
    "### 1.1. Aim of the study"
   ]
  },
  {
   "cell_type": "markdown",
   "metadata": {},
   "source": [
    "The study aims to find the simplest possible feature matrices, generated from SMILES strings, as inputs for one-dimensional convolutional neural network, without significant loss of the accuracy compared to more complex reference matrix."
   ]
  },
  {
   "cell_type": "markdown",
   "metadata": {},
   "source": [
    "### 1.2. SMILES notation"
   ]
  },
  {
   "cell_type": "markdown",
   "metadata": {},
   "source": [
    "The structure of a chemical compound can be described in a linear form (string) following the rules of the simplified molecular-input line-entry system (SMILES).<sup>[1][2]</sup><br/><br/>\n",
    "Brief description:\n",
    "* Atoms are represented by their symbols in square brackets which can be omitted in case of the most common symbols (`B`, `C`, `N`, `O`, `F`, `P`, `S`, `Cl`, `Br`, `I`) when they have default properties. Lower case symbols describe atoms in aromatic rings. By default, hydrogen atoms are not shown explicitly. Their number is calculated from the difference in the number of implicit and explicit bonds.\n",
    "* Bonds are specified by the symbols:  \n",
    "`.` - ionic,  \n",
    "`-` - single,  \n",
    "`/`, `\\` - single up and down respectively (next to a double bond),  \n",
    "`:` - aromatic (between single and double),  \n",
    "`=` - double,  \n",
    "`#` - triple.  \n",
    "By default, single and aromatic bonds are not shown explicitly.\n",
    "* Branches are represented by the parentheses.\n",
    "* Ring connections are specified by the pairs of digit indices.\n",
    "* Additional symbols inside square brackets describe charge (`+`, `-`) or chirality (`@`, `@@`)\n",
    "<br/><br/>\n",
    "\n",
    "**Tab. 1.** Examples of SMILES strings\n",
    "\n",
    "Compound name | Condensed structural formula | SMILES | Comments\n",
    "--- | --- | --- | ---\n",
    "Ethanol | CH<sub>3</sub>CH<sub>2</sub>OH | `CCO` | All atoms have default properties (neutral charge, no chirality, typical valence, etc.),<br/>and are not written in square brackets.<br/>Hydrogen atoms and single bonds can be implict.\n",
    "Calcium hypochlorite | Ca(ClO)<sub>2</sub> | `[Ca+2].[O-]Cl.[O-]Cl` | Atoms with charges are written in square brackets.<br/>Ionic bonds must be shown but single bonds not.\n",
    "Silicon dioxide | SiO<sub>2</sub> | `O=[Si]=O` | Silicon is not present in the most common symbols set and must be written in square brackets.<br/>Double bonds must be explicit.\n",
    "L-Lactonitrile | CH<sub>3</sub>CH(OH)CN | `C[C@@H](O)C#N` | Oxygen atom is inside a branch.<br/>Stereogenic carbon atom is written in square brackets with chiral tag.<br/>Single bonds can be implicit, but triple bond not.\n",
    "*trans*-Cinnamic acid | C<sub>6</sub>H<sub>6</sub>CHCHCOOH | `c1ccccc1/C=C/C(=O)O` | Ring connection is denoted by a pair of digits.<br/>Carbon atoms in the aromatic ring are written in lower case.<br/>Double, single up and single down bonds must be shown but aromatic bonds not.\n",
    "<br/><br/>\n",
    "\n",
    "**Fig. 1.** SMILES generation algorithm  \n",
    "<sup>*Source*: https://en.wikipedia.org/wiki/Simplified_molecular-input_line-entry_system</sup>  \n",
    "![Image of SMILES generation algorithm](img/smiles_gen_alg.png)"
   ]
  },
  {
   "cell_type": "markdown",
   "metadata": {},
   "source": [
    "### 1.3. DeepSMILES notation"
   ]
  },
  {
   "cell_type": "markdown",
   "metadata": {},
   "source": [
    "DeepSMILES is a variant of SMILES string suited for machine learning models.<sup>[3]</sup> Ring size is indicated by a single integer at closing point, while branches are decoded as multiple closing parentheses whose number is equal to the length of the branch.\n",
    "<br/><br/>\n",
    "\n",
    "**Tab. 2.** Examples of DeepSMILES strings\n",
    "\n",
    "Compound name | SMILES | DeepSMILES | Comments\n",
    "--- | --- | --- | ---\n",
    "Tetrahydrofuran | `C1COCC1` | `CCOCC5` | Five-membered ring\n",
    "Laurolactam | `C1CCCCCC(=O)NCCCCC1` | `CCCCCCC=O)NCCCCC%13` | Thirteen-membered ring\n",
    "Isopropanol | `CC(O)C` | `CCO)C` | Branch with one atom\n",
    "Triethylamine | `CCN(CC)CC` | `CCNCC))CC` | Branch with two atoms\n",
    "Diphenyl ether | `O(c1ccccc1)c2ccccc2` | `Occcccc6))))))cccccc6` | Two six-membered rings and branch with six atoms"
   ]
  },
  {
   "cell_type": "markdown",
   "metadata": {},
   "source": [
    "## 2. Materials and methods"
   ]
  },
  {
   "cell_type": "markdown",
   "metadata": {},
   "source": [
    "### 2.1. Prerequisites"
   ]
  },
  {
   "cell_type": "markdown",
   "metadata": {},
   "source": [
    "#### 2.1.1. Installations *(Google Colab only)*"
   ]
  },
  {
   "cell_type": "code",
   "execution_count": null,
   "metadata": {},
   "outputs": [],
   "source": [
    "%%time\n",
    "from smilearn.colab import setup\n",
    "try:\n",
    "    from google.colab import output\n",
    "    !git clone -q https://github.com/mateuszrezler/smilearn.git\n",
    "    %cd -q smilearn\n",
    "    from smilearn.colab import setup\n",
    "    %tensorflow_version 2.x\n",
    "except ModuleNotFoundError:\n",
    "    print('Google Colab mode is off.')"
   ]
  },
  {
   "cell_type": "markdown",
   "metadata": {},
   "source": [
    "#### 2.1.2. Imports"
   ]
  },
  {
   "cell_type": "markdown",
   "metadata": {},
   "source": [
    "External"
   ]
  },
  {
   "cell_type": "code",
   "execution_count": null,
   "metadata": {},
   "outputs": [],
   "source": [
    "from deepsmiles import Converter as DeepSmilesConverter\n",
    "from IPython.display import display\n",
    "from pandas import DataFrame, read_csv, Series\n",
    "from rdkit.RDLogger import DisableLog\n",
    "from rdkit.Chem import MolFromSmiles, MolToSmiles\n",
    "from re import findall\n",
    "from sklearn.pipeline import FeatureUnion, Pipeline\n",
    "from numpy import array, mean, std\n",
    "from numpy.random import seed\n",
    "from sklearn.metrics import roc_auc_score\n",
    "from sklearn.model_selection import StratifiedKFold\n",
    "from tensorflow.keras.layers import Conv1D, Dense, \\\n",
    "    GlobalMaxPooling1D, MaxPooling1D\n",
    "from tensorflow.keras.models import Sequential\n",
    "from tensorflow.keras.optimizers import Adam\n",
    "from json import load as load_json\n",
    "from os.path import join as path_join"
   ]
  },
  {
   "cell_type": "markdown",
   "metadata": {},
   "source": [
    "Internal"
   ]
  },
  {
   "cell_type": "code",
   "execution_count": null,
   "metadata": {},
   "outputs": [],
   "source": [
    "from smilearn.display.figures import feature_matrix, hide_atoms, molimg\n",
    "from smilearn.display.tags import BR, arrow_down, b, code, fig, i, p, tab\n",
    "from smilearn.features.atom import *\n",
    "from smilearn.features.pipeline import *\n",
    "from smilearn.features.structure import *\n",
    "from smilearn.model.tools import compare_tstudent, EpochCounter\n",
    "from smilearn.reference.feature import mol_to_feature"
   ]
  },
  {
   "cell_type": "markdown",
   "metadata": {},
   "source": [
    "### 2.2. Constants"
   ]
  },
  {
   "cell_type": "markdown",
   "metadata": {},
   "source": [
    "Predefined constant values are loaded from `smilearn/config/constants.json` file.  \n",
    "Hyperparameters for one-dimensional convolutional neural network were optimized with Optuna, an automatic hyperparameter optimization framework.<sup>[4]</sup>"
   ]
  },
  {
   "cell_type": "code",
   "execution_count": null,
   "metadata": {},
   "outputs": [],
   "source": [
    "constants_json = path_join('smilearn', 'config', 'constants.json')\n",
    "with open(constants_json) as cj:\n",
    "    CONSTANTS = load_json(cj)\n",
    "for C in CONSTANTS:\n",
    "    assignment = f'{C.upper()} = {CONSTANTS[C]}'\n",
    "    exec(assignment)\n",
    "    print(assignment)"
   ]
  },
  {
   "cell_type": "markdown",
   "metadata": {},
   "source": [
    "### 2.3. SMILearn package"
   ]
  },
  {
   "cell_type": "markdown",
   "metadata": {},
   "source": [
    "This section is a short demo of SMILearn package, a toolkit for making feature matrices directly from SMILES strings.  \n",
    "It consists of three main modules:\n",
    "1. `atom` - a set of functions extracting specific features from a single atom,\n",
    "2. `structure` - functions pulling out features directly from SMILES characters,\n",
    "3. `pipeline` - a collection of transformers implemented to work in scikit-learn pipelines.\n",
    "<br/><br/>\n",
    "\n",
    "Adenosine monophosphate magnesium salt (Fig. 2) is an example of complex compound whose SMILES representation is very diverse.  \n",
    "Making of RDKit Mol object (using RDKit package)<sup>[5]</sup> is needed to explore features of its atoms, bonds, branches and rings."
   ]
  },
  {
   "cell_type": "code",
   "execution_count": null,
   "metadata": {
    "scrolled": false
   },
   "outputs": [],
   "source": [
    "MgAMP_smiles = '[Mg+2].C1=NC(=C2C(=N1)N(C=N2)[C@H]3[C@@H]([C@@H]([C@H](O3)C\\\n",
    "OP(=O)([O-])[O-])O)O)N'\n",
    "mol = MolFromSmiles(MgAMP_smiles)\n",
    "fig(2, 'Adenosine monophospate magnesium salt')\n",
    "molimg(mol)"
   ]
  },
  {
   "cell_type": "markdown",
   "metadata": {},
   "source": [
    "#### 2.3.1. `atom` module"
   ]
  },
  {
   "cell_type": "markdown",
   "metadata": {},
   "source": [
    "Functions availabale in `atom` module:\n",
    "1. `get_atomic_num` - returns atomic number,\n",
    "2. `get_charge` - returns formal charge with `shift` value added (set to `0` by default),\n",
    "3. `get_degree` - returns degree of substitution,\n",
    "4. `get_group` - returns group number (in periodic table),\n",
    "5. `get_num_hs` - returns total number of connected hydrogen atoms,\n",
    "6. `get_period` - returns period number (in periodic table),\n",
    "7. `get_valence` - returns total valence,\n",
    "8. `has_chiral_tag` - returns `1.0` when atom has specified chiral tag,\n",
    "9. `has_hybridization` - returns `1.0` when atom has specified hybridization,\n",
    "10. `has_no_symbol` - returns `1.0` when atom has none of the symbols given,\n",
    "11. `has_symbol` - returns `1.0` when atom has one of the symbols given,\n",
    "12. `is_aromatic` - returns `1.0` when atom is a part of an aromatic ring,\n",
    "13. `is_in_ring` - returns `1.0` when atom is a part of a ring,\n",
    "14. `is_metal` - returns `1.0` when atom is metal,\n",
    "15. `is_metalloid` - returns `1.0` when atom is metalloid.\n",
    "\n",
    "\n",
    "<sup>Abovementioned functions take two positional arguments (`mol` and `index`).  \n",
    "By default, they return `float` values. This can be changed by setting `astype` parameter.  \n",
    "Functions 1-7 return values divided by `maxval` parameter (set to `1` by default).</sup>\n",
    "\n",
    "All these functions were used in generation of the dataframe (Tab 3). Atom numbering scheme is added for clarity (Fig 3)."
   ]
  },
  {
   "cell_type": "code",
   "execution_count": null,
   "metadata": {},
   "outputs": [],
   "source": [
    "fig(3, 'Atom numbering of MgAMP (first twenty atoms highlighted)')\n",
    "molimg(mol, highlightMap=hide_atoms(range(20, 25)), includeAtomNumbers=True)\n",
    "tab(3, 'Features of the first twenty atoms of MgAMP')\n",
    "atoms = []\n",
    "for index in range(20):\n",
    "    atoms.append([])\n",
    "    atoms[index].extend([mol.GetAtomWithIdx(index).GetSymbol(),\n",
    "                         has_chiral_tag('CHI_TETRAHEDRAL_CW')(mol, index),\n",
    "                         has_hybridization('SP3')(mol, index),\n",
    "                         has_no_symbol(['C', 'N'], astype=float)(mol, index),\n",
    "                         has_symbol('C', astype=int)(mol, index),\n",
    "                         is_aromatic(astype=bool)(mol, index),\n",
    "                         is_metal(astype=bool)(mol, index),\n",
    "                         is_metalloid(astype=bool)(mol, index),\n",
    "                         is_in_ring(astype=bool)(mol, index),\n",
    "                         get_atomic_num(astype=int)(mol, index),\n",
    "                         get_charge(astype=int, shift=0)(mol, index),\n",
    "                         get_degree(maxval=8)(mol, index),\n",
    "                         get_group(astype=int)(mol, index),\n",
    "                         get_num_hs(astype=float, maxval=4)(mol, index),\n",
    "                         get_period(astype=int)(mol, index),\n",
    "                         get_valence()(mol, index)])\n",
    "display(\n",
    "    DataFrame(atoms,\n",
    "              columns=['Symbol', 'ChiCW', 'HybSP3', 'NotCNO', 'C', 'Arom',\n",
    "                       'Metal', 'Metalloid', 'InRing', 'AtNum', 'Charge',\n",
    "                       'Degree/8', 'Group', 'NumHs/4', 'Period', 'Valence']))"
   ]
  },
  {
   "cell_type": "markdown",
   "metadata": {},
   "source": [
    "#### 2.3.2. `structure` module"
   ]
  },
  {
   "cell_type": "markdown",
   "metadata": {},
   "source": [
    "Functions availabale in `structure` module:\n",
    "1. `get_branch_len` - returns number of consecutive closing parentheses in DeepSMILES string,\n",
    "2. `get_ring_int` - returns ring closure integer,\n",
    "3. `is_char` - returns `1.0` when character is exactly as specified.\n",
    "\n",
    "<sup>These functions take one positional argument (`token`).  \n",
    "By default, they return `float` values. This can be changed by setting `astype` parameter.  \n",
    "Functions 1-2 return values divided by `maxval` parameter (set to `1` by default).</sup>\n",
    "\n",
    "All these functions were used to extract structural features from DeepSmiles representation of MgAMP, shown below, in form of dataframe (Tab. 4)."
   ]
  },
  {
   "cell_type": "code",
   "execution_count": null,
   "metadata": {},
   "outputs": [],
   "source": [
    "dsc = DeepSmilesConverter(branches=True, rings=True)\n",
    "smiles = MolToSmiles(mol, allHsExplicit=True, canonical=False)\n",
    "deep_smiles = dsc.encode(smiles)\n",
    "tokens = findall(r'\\[.+?\\]|\\)+|.', deep_smiles)\n",
    "struct_tokens = [token for token in tokens if token[0] != '[']\n",
    "p(BR, b('Exemplary preparation steps of structural tokens'), BR*2)\n",
    "p(i('SMILES with all hydrogens explicit: '), code(smiles), arrow_down())\n",
    "p(i('DeepSMILES: '), code(deep_smiles), arrow_down())\n",
    "p(i('Tokens: '), code(tokens), arrow_down())\n",
    "p(i('Structural tokens: '), code(struct_tokens), BR)\n",
    "tab(4, 'Structural features extracted from DeepSMILES notation of MgAMP')\n",
    "tokens = []\n",
    "for index, token in enumerate(struct_tokens):\n",
    "    tokens.append([])\n",
    "    tokens[index].extend([token,\n",
    "                         get_branch_len(astype=float, maxval=10)(token),\n",
    "                         get_ring_int(astype=int)(token)])\n",
    "display(DataFrame(tokens, columns=['Token', 'BranchLen/10', 'RingInt']))"
   ]
  },
  {
   "cell_type": "markdown",
   "metadata": {},
   "source": [
    "#### 2.3.3. `pipeline` module"
   ]
  },
  {
   "cell_type": "markdown",
   "metadata": {},
   "source": [
    "Following classes are availabale in `pipeline` module.  \n",
    "These transformers are fully compatible with scikit-learn pipelines and implement fit and transform methods.  \n",
    "Their usage is shown in sections 2.3.4 and 2.3.5.\n",
    "1. `PipelineTransformer` - base class, for inheritance only,\n",
    "2. `FunctionApplier` - general dataframe function applier,  \n",
    "parameters:\n",
    "`function` - function to be applied,  \n",
    "`astype=Series` - type of the output (dataframe or series),\n",
    "3. `SeriesSelector` - selects a chosen series from dataframe,\n",
    "4. `ToArrayConverter` - converts a dataframe to an array,\n",
    "5. `ZerosFiller` - fills empty cells with zeros,\n",
    "6. `DeepSmilesEncoder` - converts SMILES to DeepSMILES  \n",
    "parameters:  \n",
    "`branches=True` - convert branches if True,  \n",
    "`rings=True` - convert rings if True,\n",
    "7. `RegexTokenizer` - tokenizes strings using regular expression,  \n",
    "parameters:  \n",
    "`regex='.'` - expression for tokenization,\n",
    "8. `RingTagInserter` - inserts ring tags in place of integer ring indices,  \n",
    "parameters:  \n",
    "`regex=r'%\\d+|[\\+\\-]\\d\\]|.'` - expression differentiating ring numbers from other parts of the SMILES string,  \n",
    "`tags='<>'` - pair of characters used as ring tags,  \n",
    "9. `SmilesFeaturizer` - builds feature matrices from a given SMILES string and preprocessed tokens,  \n",
    "parameters:  \n",
    "`atom_functions` - list of featurizing functions from `atom` module,  \n",
    "`struct_functions` - list of featurizing functions from `structure` module,  \n",
    "`smiles_column=0` - name of a column in the input dataframe with SMILES string convertable to Mol,  \n",
    "`tokens_column=1` - name of a column in the input dataframe with preprocessed tokens,  \n",
    "`atom_regex=r'\\[.+?\\]|Br|Cl|.'` - expression separating atoms from structural elements,  \n",
    "`h_vector=False` - use simplified hydrogen vector if True,\n",
    "`max_len=100` - maximum length of tokens,  \n",
    "`pad_len=0` - length of zero padding before and after a feature matrix,  \n",
    "10. `SmilesRebuilder` - rebuilds SMILES string,  \n",
    "for parameters see [RDKit documentation](https://www.rdkit.org/docs/source/rdkit.Chem.rdmolfiles.html)."
   ]
  },
  {
   "cell_type": "markdown",
   "metadata": {},
   "source": [
    "### 2.4. Dataset"
   ]
  },
  {
   "cell_type": "markdown",
   "metadata": {},
   "source": [
    "#### 2.4.1. Source"
   ]
  },
  {
   "cell_type": "markdown",
   "metadata": {},
   "source": [
    "MoleculeNet website provides a benchmark datasets, models and results for molecular machine learning.<sup>[6]</sup> A single task from Tox21 dataset (NR-AR) is chosen in this study. Tox21 contains qualitative (binary) toxicity measurements on 12 biological targets. NR-AR refers to the results of androgen receptor assay performed on the MDA cell line."
   ]
  },
  {
   "cell_type": "code",
   "execution_count": null,
   "metadata": {},
   "outputs": [],
   "source": [
    "data = read_csv(path_join('smilearn', 'datasets', 'tox21.csv'))"
   ]
  },
  {
   "cell_type": "markdown",
   "metadata": {},
   "source": [
    "#### 2.4.2. Exploration of raw data"
   ]
  },
  {
   "cell_type": "markdown",
   "metadata": {},
   "source": [
    "First look at the dataset (Tab. 5) leads to the conclusion that missing values are prevalent."
   ]
  },
  {
   "cell_type": "code",
   "execution_count": null,
   "metadata": {},
   "outputs": [],
   "source": [
    "tab(5, 'First five rows of the dataset')\n",
    "display(data.head())"
   ]
  },
  {
   "cell_type": "markdown",
   "metadata": {},
   "source": [
    "Analysis of the percentage of positive results unravels highly imbalanced classes. In the case of NR-AR assay, positive results account for almost 4% of all the results obtained. Therefore accuracy is not the metric to use in this situation. According to recommendations found in MoleculeNet, ROC-AUC score is chosen in this study."
   ]
  },
  {
   "cell_type": "code",
   "execution_count": null,
   "metadata": {},
   "outputs": [],
   "source": [
    "num_positives = (data['NR-AR'] == 1).sum()\n",
    "num_results = data['NR-AR'].shape[0]\n",
    "perc_positives = num_positives/num_results*100\n",
    "p(BR, 'Number of positive results: ', b(num_positives), BR,\n",
    "  'Number of all results: ', b(num_results), BR,\n",
    "  'Percentage of positive results: ', b(f'{perc_positives:.1f}%'))"
   ]
  },
  {
   "cell_type": "markdown",
   "metadata": {},
   "source": [
    "#### 2.4.3. Preprocessing"
   ]
  },
  {
   "cell_type": "markdown",
   "metadata": {},
   "source": [
    "First step of the preprocessing is the separation of raw features (SMILES strings, `X_raw`) and targets (NR-AR binary activity, `y_raw`)."
   ]
  },
  {
   "cell_type": "code",
   "execution_count": null,
   "metadata": {},
   "outputs": [],
   "source": [
    "X_raw = DataFrame(data['smiles'])\n",
    "y_raw = DataFrame(data['NR-AR'])"
   ]
  },
  {
   "cell_type": "markdown",
   "metadata": {},
   "source": [
    "Raw targets (`y_raw`) are then cleaned by filling missing data with zeros. Cleaned targets (`y`) in the form of NumPy array are obtained following a simple preprocessing pipeline shown below."
   ]
  },
  {
   "cell_type": "code",
   "execution_count": null,
   "metadata": {},
   "outputs": [],
   "source": [
    "ypipeline = Pipeline([('fill_with_zeros', ZerosFiller()),\n",
    "                      ('convert_to_array', ToArrayConverter())])\n",
    "y = ypipeline.fit_transform(y_raw)\n",
    "p(BR, 'Shape of targets (y): ', b(y.shape), BR*2)"
   ]
  },
  {
   "cell_type": "markdown",
   "metadata": {},
   "source": [
    "#### 2.4.4. Reference pipeline"
   ]
  },
  {
   "cell_type": "markdown",
   "metadata": {},
   "source": [
    "*Hirohara et al.*<sup>[7]</sup> used one-dimensional convolutional neural networks, trained on SMILES feature matrices, to classify toxicity of compounds from Tox21 dataset.  \n",
    "The pipeline below is an implementation reproducing accurately their method of featurization. It builds a 400 by 42 feature matrices (`X_ref`) from a set of SMILES strings (`X_raw`). It takes into account all noticed implementation bugs:  \n",
    "* formal charge non-normalized to 0-1 values (`# 1`),\n",
    "* columns with no information stored (`# 2`),\n",
    "* skipping reused ring opening digits (`# 3`),  \n",
    "\n",
    "and other less explicit mistakes."
   ]
  },
  {
   "cell_type": "code",
   "execution_count": null,
   "metadata": {},
   "outputs": [],
   "source": [
    "# disable RDKit warnings\n",
    "DisableLog('rdApp.*')"
   ]
  },
  {
   "cell_type": "code",
   "execution_count": null,
   "metadata": {},
   "outputs": [],
   "source": [
    "# atom functions\n",
    "af = [*(has_symbol(symbol) for symbol in 'HCON'),\n",
    "      has_no_symbol(['H', 'C', 'O', 'N']),\n",
    "      get_num_hs(maxval=8),\n",
    "      get_degree(maxval=4),\n",
    "      get_charge(maxval=8),  # 1\n",
    "      get_valence(maxval=8),\n",
    "      is_in_ring(),\n",
    "      is_aromatic(),\n",
    "      lambda mol, index: 0,  # 2\n",
    "      *(has_chiral_tag(f'CHI_TETRAHEDRAL_{tag}') for tag in ('CW', 'CCW')),\n",
    "      lambda mol, index: 0,  # 2\n",
    "      *(has_hybridization(hybr) for hybr in ('S', 'SP', 'SP2', 'SP3',\n",
    "                                             'SP3D', 'SP3D2'))]\n",
    "# structure functions\n",
    "sf = [is_char(char) for char in '()[].:=#\\\\/@+-234567<>']\n",
    "# rebuilding pipeline\n",
    "rp = Pipeline([('select_smiles', SeriesSelector('smiles')),\n",
    "               ('rebuild_smiles', SmilesRebuilder(astype=DataFrame))])\n",
    "# tokenizing pipeline\n",
    "tp = Pipeline([('select_smiles', SeriesSelector('smiles')),\n",
    "               ('build_kekule_smiles',\n",
    "                SmilesRebuilder(kekuleSmiles=True)),\n",
    "               ('insert_ring_tags', RingTagInserter(regex=r'%\\d+|[\\+\\-]\\d\\]|.',\n",
    "                                                    reuse=False)),  # 3\n",
    "               ('tokenize_smiles',\n",
    "                RegexTokenizer(astype=DataFrame, regex=r'[^a-z]'))])\n",
    "# feature union\n",
    "fu = FeatureUnion([('rebuilding_pipeline', rp),\n",
    "                   ('tokenizing_pipeline', tp)])\n",
    "# featurizing pipeline\n",
    "fp = Pipeline([('feature_union', fu),\n",
    "               ('featurize_smiles', SmilesFeaturizer(atom_regex=r'[A-Z]',\n",
    "                                                     atom_functions=af,\n",
    "                                                     h_vector=True,\n",
    "                                                     max_len=400,\n",
    "                                                     struct_functions=sf))])\n",
    "X_ref = fp.fit_transform(X_raw)\n",
    "p(BR, 'Shape of features (X): ', b(X_ref.shape), BR*2)"
   ]
  },
  {
   "cell_type": "markdown",
   "metadata": {},
   "source": [
    "The identity of the output of this pipeline is compared with the output of the reference script."
   ]
  },
  {
   "cell_type": "code",
   "execution_count": null,
   "metadata": {},
   "outputs": [],
   "source": [
    "mols = X_raw['smiles'].apply(MolFromSmiles)\n",
    "features = mols.apply(lambda mol: mol_to_feature(mol, -1, 400)).to_list()\n",
    "arr = array(features).astype(float)\n",
    "ref_df = DataFrame(arr)\n",
    "X_2d = X_ref.reshape(X_ref.shape[0], -1)\n",
    "test_df = DataFrame(X_2d)\n",
    "equal = test_df.equals(ref_df)\n",
    "p(BR, 'Outputs are', b(' not'*int(not equal)), b(' equal'), '.', BR*2)"
   ]
  },
  {
   "cell_type": "markdown",
   "metadata": {},
   "source": [
    "#### 2.4.5. Alternative pipelines"
   ]
  },
  {
   "cell_type": "markdown",
   "metadata": {},
   "source": [
    "A part of features from reference feature matrix seems to be redundant. Therefore ten alternative feature matrices with more condensed information encoded are proposed. In the present experiment, gradual steps of dimensionality reduction are appled as follows. Changed fragments of code are denoted with inline comments."
   ]
  },
  {
   "cell_type": "markdown",
   "metadata": {},
   "source": [
    "**1<sup>st</sup> alternative pipeline**  \n",
    "Changes:\n",
    "* maximum values of numerical data are reduced to more prevalent values (`# 1`),\n",
    "* formal charge is normalized to 0-1 values (`# 2`),\n",
    "* columns with no information stored are removed (`# 3`),\n",
    "* H-vector carrying duplicate information is removed (`# 4`),\n",
    "* ring opening digits are reused (`# 5`).\n",
    "\n",
    "Effect:\n",
    "* Reduction to 358 by 39 matrices."
   ]
  },
  {
   "cell_type": "code",
   "execution_count": null,
   "metadata": {},
   "outputs": [],
   "source": [
    "# atom functions\n",
    "af1 = [*(has_symbol(symbol) for symbol in 'CON'),\n",
    "       has_no_symbol(['C', 'O', 'N']),\n",
    "       get_num_hs(maxval=4),  # 1\n",
    "       get_degree(maxval=4),\n",
    "       get_charge(maxval=6, shift=2),  # 1, 2\n",
    "       get_valence(maxval=4),  # 1\n",
    "       is_in_ring(),\n",
    "       is_aromatic(),\n",
    "       # 3 (removed)\n",
    "       *(has_chiral_tag(f'CHI_TETRAHEDRAL_{tag}') for tag in ('CW', 'CCW')),\n",
    "       # 3 (removed)\n",
    "       *(has_hybridization(hybr) for hybr in ('S', 'SP', 'SP2', 'SP3',\n",
    "                                              'SP3D', 'SP3D2'))]\n",
    "# structure functions\n",
    "sf1 = [is_char(char) for char in '()[].:=#\\\\/@+-234567<>']\n",
    "# rebuilding pipeline\n",
    "rp1 = rp\n",
    "# tokenizing pipeline\n",
    "tp1 = Pipeline([('select_smiles', SeriesSelector('smiles')),\n",
    "                ('build_kekule_smiles', SmilesRebuilder(kekuleSmiles=True)),\n",
    "                ('insert_ring_tags',\n",
    "                 RingTagInserter(regex=r'%\\d+|[H\\+\\-]\\d\\]|.',  # 4\n",
    "                                 reuse=True)),  # 5\n",
    "                ('tokenize_smiles',\n",
    "                 RegexTokenizer(astype=DataFrame, regex=r'[^Ha-z]'))])  # 4\n",
    "# feature union\n",
    "fu1 = FeatureUnion([('rebuilding_pipeline', rp1),\n",
    "                    ('tokenizing_pipeline', tp1)])\n",
    "# featurizing pipeline\n",
    "fp1 = Pipeline([('feature_union', fu1),\n",
    "                ('featurize_smiles',\n",
    "                 SmilesFeaturizer(atom_regex=r'[A-Z]', atom_functions=af1,\n",
    "                                  max_len=358, struct_functions=sf1))])  # 4\n",
    "X_alt1 = fp1.fit_transform(X_raw)\n",
    "p(BR, 'Shape of features (X): ', b(X_alt1.shape), BR*2)"
   ]
  },
  {
   "cell_type": "markdown",
   "metadata": {},
   "source": [
    "**2<sup>nd</sup> alternative pipeline**  \n",
    "Changes:\n",
    "* one-hot encoded atom symbols are reduced to two features (number of group and period in periodic table) (`# 1`),\n",
    "* one-hot encoded hybridization is removed (it is highly related to degree of substitution and valence and carries potentially duplicate information) (`# 2`),\n",
    "* potentially non-informative characters (`[]:@+-234567`) are ignored by reduction of input characters for `is_char` function and changing tokenization method (`# 3`).\n",
    "\n",
    "\n",
    "Effect:\n",
    "* Reduction to 240 by 19 matrices."
   ]
  },
  {
   "cell_type": "code",
   "execution_count": null,
   "metadata": {},
   "outputs": [],
   "source": [
    "# atom functions\n",
    "af2 = [get_group(maxval=18),  # 1\n",
    "       get_period(maxval=6), # 1\n",
    "       get_num_hs(maxval=8),\n",
    "       get_degree(maxval=4),\n",
    "       get_charge(maxval=8, shift=4),\n",
    "       get_valence(maxval=8),\n",
    "       is_in_ring(),\n",
    "       is_aromatic(),\n",
    "       *(has_chiral_tag(f'CHI_TETRAHEDRAL_{tag}') for tag in ('CW', 'CCW'))]\n",
    "       # 2 (removed)\n",
    "# structure functions\n",
    "sf2 = [is_char(char) for char in '().=#\\\\/<>']  # 2\n",
    "# rebuilding pipeline\n",
    "rp2 = rp1\n",
    "# tokenizing pipeline\n",
    "tp2 = Pipeline([('select_smiles', SeriesSelector('smiles')),\n",
    "                ('build_explicit_smiles',\n",
    "                 SmilesRebuilder(allHsExplicit=True)),  # 3\n",
    "                ('insert_ring_tags',\n",
    "                 RingTagInserter(regex=r'\\[.+?\\]|%\\d+|.',  # 3\n",
    "                                 reuse=True)),\n",
    "                ('tokenize_smiles',\n",
    "                 RegexTokenizer(astype=DataFrame,\n",
    "                                regex='\\[.+?\\]|%\\d+|[^-:]'))])  # 3\n",
    "# feature union\n",
    "fu2 = FeatureUnion([('rebuilding_pipeline', rp2),\n",
    "                    ('tokenizing_pipeline', tp2)])\n",
    "# featurizing pipeline\n",
    "fp2 = Pipeline([('feature_union', fu2),\n",
    "                ('featurize_smiles',\n",
    "                 SmilesFeaturizer(atom_regex=r'\\[.+?\\]',  # 3\n",
    "                                  atom_functions=af2,\n",
    "                                  max_len=240,\n",
    "                                  struct_functions=sf2))])\n",
    "X_alt2 = fp2.fit_transform(X_raw)\n",
    "p(BR, 'Shape of features (X): ', b(X_alt2.shape), BR*2)"
   ]
  },
  {
   "cell_type": "markdown",
   "metadata": {},
   "source": [
    "**3<sup>rd</sup> alternative pipeline**  \n",
    "Changes:\n",
    "* information about group and period of an element is reduced to atomic number (`# 1`),\n",
    "* one-hot encoded parentheses are reduced to a single numerical feature (branch length) after conversion to DeepSmiles (`# 2`),\n",
    "* ring tags encoded as two features are encoded as a single numerical feature (ring size) after conversion to DeepSmiles (`# 3`).\n",
    "\n",
    "\n",
    "\n",
    "Effect:\n",
    "* Reduction to 190 by 16 matrices."
   ]
  },
  {
   "cell_type": "code",
   "execution_count": null,
   "metadata": {},
   "outputs": [],
   "source": [
    "# atom functions\n",
    "af3 = [get_atomic_num(maxval=83),  # 1\n",
    "       get_num_hs(maxval=8),\n",
    "       get_degree(maxval=4),\n",
    "       get_charge(maxval=8, shift=4),\n",
    "       get_valence(maxval=8),\n",
    "       is_in_ring(),\n",
    "       is_aromatic(),\n",
    "       *(has_chiral_tag(f'CHI_TETRAHEDRAL_{tag}') for tag in ('CW', 'CCW'))]\n",
    "# structure functions\n",
    "sf3 = [get_branch_len(maxval=60),\n",
    "       get_ring_int(maxval=180),\n",
    "       *(is_char(char) for char in '.=#\\\\/')]  # 2, 3\n",
    "# rebuilding pipeline\n",
    "rp3 = rp2\n",
    "# tokenizing pipeline\n",
    "tp3 = Pipeline([('select_smiles', SeriesSelector('smiles')),\n",
    "                ('build_explicit_smiles',\n",
    "                 SmilesRebuilder(allHsExplicit=True)),\n",
    "                ('build_deep_smiles', DeepSmilesEncoder()),  # 2, 3\n",
    "                ('tokenize_smiles',\n",
    "                 RegexTokenizer(astype=DataFrame,\n",
    "                                regex='\\[.+?\\]|\\)+|%\\d+|[^-:]'))])  # 2, 3\n",
    "# feature union\n",
    "fu3 = FeatureUnion([('rebuilding_pipeline', rp3),\n",
    "                    ('tokenizing_pipeline', tp3)])\n",
    "# featurizing pipeline\n",
    "fp3 = Pipeline([('feature_union', fu3),\n",
    "                ('featurize_smiles',\n",
    "                 SmilesFeaturizer(atom_regex=r'\\[.+?\\]', atom_functions=af3,\n",
    "                                  max_len=190, struct_functions=sf3))])\n",
    "X_alt3 = fp3.fit_transform(X_raw)\n",
    "p(BR, 'Shape of features (X): ', b(X_alt3.shape), BR*2)"
   ]
  },
  {
   "cell_type": "markdown",
   "metadata": {},
   "source": [
    "**Negative control pipeline**  \n",
    "Changes:\n",
    "* atomic number is the only information left (`# 1`).\n",
    "\n",
    "Effect:\n",
    "* Reduction to 132 by 1 matrices."
   ]
  },
  {
   "cell_type": "code",
   "execution_count": null,
   "metadata": {},
   "outputs": [],
   "source": [
    "# atom functions\n",
    "afnc = [get_atomic_num(maxval=83)]  # 1\n",
    "# structure functions\n",
    "sfnc = []  # 1\n",
    "# rebuilding pipeline\n",
    "rpnc = rp3\n",
    "# tokenizing pipeline\n",
    "tpnc = Pipeline([('select_smiles', SeriesSelector('smiles')),\n",
    "                 ('build_explicit_smiles',\n",
    "                  SmilesRebuilder(allHsExplicit=True)),\n",
    "                  # 1 (removed)\n",
    "                 ('tokenize_smiles',\n",
    "                  RegexTokenizer(astype=DataFrame, regex=r'\\[.+?\\]'))])  # 1\n",
    "# feature union\n",
    "func = FeatureUnion([('rebuilding_pipeline', rpnc),\n",
    "                     ('tokenizing_pipeline', tpnc)])\n",
    "# featurizing pipeline\n",
    "fpnc = Pipeline([('feature_union', func),\n",
    "                 ('featurize_smiles',\n",
    "                  SmilesFeaturizer(atom_regex=r'\\[.+?\\]',\n",
    "                                   atom_functions=afnc, h_vector=False,\n",
    "                                   max_len=132, struct_functions=sfnc))])\n",
    "X_nc = fpnc.fit_transform(X_raw)\n",
    "p(BR, 'Shape of features (X): ', b(X_nc.shape), BR*2)"
   ]
  },
  {
   "cell_type": "markdown",
   "metadata": {},
   "source": [
    "#### 2.4.6. Visualization of feature matrices"
   ]
  },
  {
   "cell_type": "markdown",
   "metadata": {},
   "source": [
    "Exemplary feature matrices of a large molecule (teicoplanin A2-1 antibiotc, C<sub>88</sub>H<sub>95</sub>Cl<sub>2</sub>N<sub>9</sub>O<sub>33</sub>, compound 4978, Fig. 4), are visualized as heatmaps (Fig. 5-9)."
   ]
  },
  {
   "cell_type": "code",
   "execution_count": null,
   "metadata": {},
   "outputs": [],
   "source": [
    "teicoplanin_a2_1 = X_raw['smiles'][4978]\n",
    "mol = MolFromSmiles(teicoplanin_a2_1)\n",
    "fig(4, 'Teicoplanin A2-1 (compound 4978)')\n",
    "molimg(mol, size=(800, 800))"
   ]
  },
  {
   "cell_type": "code",
   "execution_count": null,
   "metadata": {},
   "outputs": [],
   "source": [
    "ref_tokens = Series(tp.fit_transform(X_raw)['smiles'])\n",
    "xlabels = ['Symbol_H', 'Symbol_C', 'Symbol_N', 'Symbol_O', 'NotSymbol_HCNO',\n",
    "           'TotalNumHs/8', 'TotalDegree/4', 'FormalCharge/8', 'TotalValence/8',\n",
    "           'InRing', 'Aromatic', 'ChiTetrahedralCW', 'ChiTetrahedralCCW',\n",
    "           'ChiOther', 'HybridizationS', 'HybridizationSP', 'HybridizationSP2',\n",
    "           'HybridizationSP3', 'HybridizationSP3D', 'HybridizationSP3D2',\n",
    "           'HybridizationOther', 'Char_(', 'Char_)', 'Char_[', 'Char_]',\n",
    "           'Char_.', 'Char_:', 'Char_=', 'Char_#', 'Char_\\\\', 'Char_/',\n",
    "           'Char_@', 'Char_+', 'Char_-', 'Char_2', 'Char_3', 'Char_4',\n",
    "           'Char_5', 'Char_6', 'Char_7', 'RingOpening', 'RingClosure']\n",
    "fig(5, 'Heatmap of reference feature matrix (400 by 42)')\n",
    "feature_matrix(X_ref, 4978, 400, size=(20, 80),\n",
    "               tokens=ref_tokens, xlabels=xlabels)"
   ]
  },
  {
   "cell_type": "code",
   "execution_count": null,
   "metadata": {
    "scrolled": true
   },
   "outputs": [],
   "source": [
    "alt1_tokens = Series(tp1.fit_transform(X_raw)['smiles'])\n",
    "xlabels1 = ['Symbol_C', 'Symbol_N', 'Symbol_O', 'NotSymbol_CNO',\n",
    "            'TotalNumHs/4', 'TotalDegree/4', '(FormalCharge+2)/6',\n",
    "            'TotalValence/4', 'InRing', 'Aromatic', 'ChiTetrahedralCW',\n",
    "            'ChiTetrahedralCCW', 'HybridizationS', 'HybridizationSP',\n",
    "            'HybridizationSP2', 'HybridizationSP3', 'HybridizationSP3D',\n",
    "            'HybridizationSP3D2', 'Char_(', 'Char_)', 'Char_[', 'Char_]',\n",
    "            'Char_.', 'Char_:', 'Char_=', 'Char_#', 'Char_\\\\', 'Char_/',\n",
    "            'Char_@', 'Char_+', 'Char_-', 'Char_2', 'Char_3', 'Char_4',\n",
    "            'Char_5', 'Char_6', 'Char_7', 'RingOpening', 'RingClosure']\n",
    "fig(6, 'Heatmap of the 1<sup>st</sup> alternative feature matrix (358 by 39)')\n",
    "feature_matrix(X_alt1, 4978, 358, size=(20, 80), tokens=alt1_tokens, xlabels=xlabels1)"
   ]
  },
  {
   "cell_type": "code",
   "execution_count": null,
   "metadata": {},
   "outputs": [],
   "source": [
    "alt2_tokens = Series(tp2.fit_transform(X_raw)['smiles'])\n",
    "xlabels2 = ['Group', 'Period', 'TotalNumHs/4', 'TotalDegree/4',\n",
    "            '(FormalCharge+2)/6', 'TotalValence/4', 'InRing', 'Aromatic',\n",
    "            'ChiTetrahedralCW', 'ChiTetrahedralCCW', 'Char_(', 'Char_)',\n",
    "            'Char_.', 'Char_=', 'Char_#', 'Char_\\\\', 'Char_/',\n",
    "            'RingOpening', 'RingClosure']\n",
    "fig(7, 'Heatmap of the 2<sup>nd</sup> alternative feature matrix (240 by 19)')\n",
    "feature_matrix(X_alt2, 4978, 240, size=(10, 55), tokens=alt2_tokens, xlabels=xlabels2)"
   ]
  },
  {
   "cell_type": "code",
   "execution_count": null,
   "metadata": {},
   "outputs": [],
   "source": [
    "alt3_tokens = Series(tp3.fit_transform(X_raw)['smiles'])\n",
    "xlabels3 = ['AtomicNum', 'TotalNumHs/4', 'TotalDegree/4', '(FormalCharge+2)/6',\n",
    "            'TotalValence/4', 'InRing', 'Aromatic', 'ChiTetrahedralCW',\n",
    "            'ChiTetrahedralCCW', 'BranchLen', 'RingInt', 'Char_.', 'Char_=',\n",
    "            'Char_#', 'Char_\\\\', 'Char_/']\n",
    "fig(8, 'Heatmap of the 3<sup>rd</sup> alternative feature matrix (190 by 16)')\n",
    "feature_matrix(X_alt3, 4978, 190, size=(9, 45), tokens=alt3_tokens, xlabels=xlabels3)"
   ]
  },
  {
   "cell_type": "code",
   "execution_count": null,
   "metadata": {},
   "outputs": [],
   "source": [
    "nc_tokens = Series(tpnc.fit_transform(X_raw)['smiles'])\n",
    "xlabelsnc = ['AtomicNum']\n",
    "fig(9, 'Heatmap of the negative control feature matrix (132 by 1)')\n",
    "feature_matrix(X_nc, 4978, 132, size=(1, 32), tokens=nc_tokens, xlabels=xlabelsnc)"
   ]
  },
  {
   "cell_type": "markdown",
   "metadata": {},
   "source": [
    "### 2.5. Model definition"
   ]
  },
  {
   "cell_type": "markdown",
   "metadata": {},
   "source": [
    "Neural network consisting of two 1D convolution layers with optimized hyperparameters is chosen for further comparisons."
   ]
  },
  {
   "cell_type": "code",
   "execution_count": null,
   "metadata": {},
   "outputs": [],
   "source": [
    "def build_cnn1d(layers, input_shape, learning_rate):\n",
    "    model = Sequential()\n",
    "    model.add(Conv1D(**layers['conv1'], input_shape=input_shape))\n",
    "    model.add(MaxPooling1D(**layers['pool']))\n",
    "    model.add(Conv1D(**layers['conv2']))\n",
    "    model.add(GlobalMaxPooling1D())\n",
    "    model.add(Dense(1, activation='sigmoid'))\n",
    "    model.compile(loss='binary_crossentropy',\n",
    "                  optimizer=Adam(learning_rate=learning_rate),\n",
    "                  metrics=['accuracy'])\n",
    "    return model"
   ]
  },
  {
   "cell_type": "markdown",
   "metadata": {},
   "source": [
    "Mean ROC AUC values are calculated after stratified cross validation defined below."
   ]
  },
  {
   "cell_type": "code",
   "execution_count": null,
   "metadata": {},
   "outputs": [],
   "source": [
    "def run_cv(X, y, build_fn, transformer, layers, input_shape, epochs=10,\n",
    "           learning_rate=1e-3, n_splits=5, random_seed=0, verbose=1):\n",
    "    seed(random_seed)\n",
    "    skfold = StratifiedKFold(n_splits=n_splits, shuffle=True,\n",
    "                             random_state=random_seed)\n",
    "    fold = 0\n",
    "    scores = []\n",
    "    for train, test in skfold.split(X, y):\n",
    "        fold += 1\n",
    "        print(f'Fold #{fold}\\npreprocessing...', end='')\n",
    "        X_train = transformer.fit_transform(X.iloc[train,:])\n",
    "        X_test = transformer.fit_transform(X.iloc[test,:])\n",
    "        y_train = y[train]\n",
    "        y_test = y[test]\n",
    "        ec = EpochCounter()\n",
    "        model = build_fn(layers, input_shape, learning_rate)\n",
    "        model.fit(X_train, y_train, validation_data=(X_test, y_test),\n",
    "                  epochs=epochs, verbose=verbose, callbacks=[ec])\n",
    "        predictions = model.predict(X_test)\n",
    "        score = roc_auc_score(y_test, predictions)\n",
    "        scores.append(score)\n",
    "        print(f'score: {score:.4f}'+' '*4)\n",
    "    msg = f'Mean ROC AUC: {mean(scores):.4f} ({chr(0xB1)} {std(scores):.4f})\\n'\n",
    "    print(msg)\n",
    "    return scores"
   ]
  },
  {
   "cell_type": "markdown",
   "metadata": {},
   "source": [
    "## 3. Results and discussion"
   ]
  },
  {
   "cell_type": "markdown",
   "metadata": {},
   "source": [
    "In the final evaluation, Student's t-test was used to determine if two mean ROC AUC values (alternative and reference) are significantly different from each other."
   ]
  },
  {
   "cell_type": "code",
   "execution_count": null,
   "metadata": {},
   "outputs": [],
   "source": [
    "%%time\n",
    "\n",
    "scores_ref = run_cv(X_raw, y, build_cnn1d, fp, LAYERS, (400, 42),\n",
    "                    epochs=EPOCHS, learning_rate=LEARNING_RATE, n_splits=4,\n",
    "                    random_seed=SEED, verbose=VERBOSE)"
   ]
  },
  {
   "cell_type": "code",
   "execution_count": null,
   "metadata": {},
   "outputs": [],
   "source": [
    "%%time\n",
    "\n",
    "scores_alt1 = run_cv(X_raw, y, build_cnn1d, fp1, LAYERS, (358, 39),\n",
    "                     epochs=EPOCHS, learning_rate=LEARNING_RATE, n_splits=4,\n",
    "                     random_seed=SEED, verbose=VERBOSE)\n",
    "compare_tstudent(scores_ref, scores_alt1)"
   ]
  },
  {
   "cell_type": "code",
   "execution_count": null,
   "metadata": {},
   "outputs": [],
   "source": [
    "%%time\n",
    "\n",
    "scores_alt2 = run_cv(X_raw, y, build_cnn1d, fp2, LAYERS, (240, 19),\n",
    "                     epochs=EPOCHS, learning_rate=LEARNING_RATE, n_splits=4,\n",
    "                     random_seed=SEED, verbose=VERBOSE)\n",
    "compare_tstudent(scores_ref, scores_alt2)"
   ]
  },
  {
   "cell_type": "code",
   "execution_count": null,
   "metadata": {},
   "outputs": [],
   "source": [
    "%%time\n",
    "\n",
    "scores_alt3 = run_cv(X_raw, y, build_cnn1d, fp3, LAYERS, (190, 16),\n",
    "                     epochs=EPOCHS, learning_rate=LEARNING_RATE, n_splits=4,\n",
    "                     random_seed=SEED, verbose=VERBOSE)\n",
    "compare_tstudent(scores_ref, scores_alt3)"
   ]
  },
  {
   "cell_type": "code",
   "execution_count": null,
   "metadata": {},
   "outputs": [],
   "source": [
    "%%time\n",
    "\n",
    "scores_nc = run_cv(X_raw, y, build_cnn1d, fpnc, LAYERS, (132, 1),\n",
    "                   epochs=EPOCHS, learning_rate=LEARNING_RATE, n_splits=4,\n",
    "                   random_seed=SEED, verbose=VERBOSE)\n",
    "compare_tstudent(scores_ref, scores_nc)"
   ]
  },
  {
   "cell_type": "markdown",
   "metadata": {},
   "source": [
    "## 4. Conclusion\n",
    "According to the tests carried out, a strong reduction of dimensionality from 400 by 42 to 190 by 16 does not harm the predictive power of the neural network being tested. This is only 18% of the data points of the reference solution. Probably there is still a room for further optimization and one may be encouraged to test in-depth the package presented here."
   ]
  },
  {
   "cell_type": "markdown",
   "metadata": {},
   "source": [
    "## 5. References"
   ]
  },
  {
   "cell_type": "markdown",
   "metadata": {},
   "source": [
    "<sup>[1]</sup> https://www.daylight.com/dayhtml/doc/theory/theory.smiles.html  \n",
    "<sup>[2]</sup> https://en.wikipedia.org/wiki/Simplified_molecular-input_line-entry_system  \n",
    "<sup>[3]</sup> https://chemrxiv.org/articles/DeepSMILES_An_Adaptation_of_SMILES_for_Use_in_Machine-Learning_of_Chemical_Structures/7097960/1  \n",
    "<sup>[4]</sup> https://optuna.org/  \n",
    "<sup>[5]</sup> https://www.rdkit.org/  \n",
    "<sup>[6]</sup> http://moleculenet.ai/  \n",
    "<sup>[7]</sup> https://bmcbioinformatics.biomedcentral.com/articles/10.1186/s12859-018-2523-5"
   ]
  }
 ],
 "metadata": {
  "kernelspec": {
   "display_name": "Python 3",
   "language": "python",
   "name": "python3"
  },
  "language_info": {
   "codemirror_mode": {
    "name": "ipython",
    "version": 3
   },
   "file_extension": ".py",
   "mimetype": "text/x-python",
   "name": "python",
   "nbconvert_exporter": "python",
   "pygments_lexer": "ipython3",
   "version": "3.7.6"
  }
 },
 "nbformat": 4,
 "nbformat_minor": 2
}
