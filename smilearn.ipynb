{
 "cells": [
  {
   "cell_type": "markdown",
   "metadata": {
    "colab_type": "text",
    "id": "8W-yRz0XoyJB"
   },
   "source": [
    "# SMILearn models\n",
    "Evaluation of binary biological activity prediction models based on SMILearn matrices"
   ]
  },
  {
   "cell_type": "markdown",
   "metadata": {
    "colab_type": "text",
    "id": "OjSEtRcWfQkT"
   },
   "source": [
    "## Prerequisites"
   ]
  },
  {
   "cell_type": "markdown",
   "metadata": {
    "colab_type": "text",
    "id": "3cMH5U1xhI0i"
   },
   "source": [
    "### Installations (Google Colab)\n",
    "This is an example of installation steps that allow this notebook to work properly in Google Colab environment.  \n",
    "In other cases, it is recommended to follow the instructions in `README.md` file and skip the cell below."
   ]
  },
  {
   "cell_type": "code",
   "execution_count": null,
   "metadata": {
    "colab": {},
    "colab_type": "code",
    "id": "rY8zmBkshKnA"
   },
   "outputs": [],
   "source": [
    "# Save the output as `installation_log` variable\n",
    "%%capture installation_log\n",
    "\n",
    "# Install Miniconda\n",
    "!wget https://repo.continuum.io/miniconda/Miniconda3-latest-Linux-x86_64.sh\n",
    "!bash Miniconda3-latest-Linux-x86_64.sh -bfp /usr/local\n",
    "!rm Miniconda3-latest-Linux-x86_64.sh\n",
    "\n",
    "# Install RDKit\n",
    "!conda install -qyc conda-forge rdkit\n",
    "\n",
    "# Install DeepSMILES unofficial GitHub fork\n",
    "!pip install git+git://github.com/mateuszrezler/deepsmiles@master\n",
    "\n",
    "# Download sample data set\n",
    "!wget http://www.dna.bio.keio.ac.jp/smiles/TOX21/\\\n",
    "NR-PPAR-gamma_wholetraining.smiles\n",
    "\n",
    "# Update system path\n",
    "import sys\n",
    "sys.path.append('/usr/local/lib/python3.7/site-packages')"
   ]
  },
  {
   "cell_type": "markdown",
   "metadata": {
    "colab_type": "text",
    "id": "C9tAswjZqxn_"
   },
   "source": [
    "### Imports"
   ]
  },
  {
   "cell_type": "code",
   "execution_count": null,
   "metadata": {
    "colab": {},
    "colab_type": "code",
    "id": "qToc6-qMvNel"
   },
   "outputs": [],
   "source": [
    "import deepsmiles\n",
    "import numpy as np\n",
    "import pandas as pd\n",
    "import re\n",
    "from rdkit import Chem\n",
    "from rdkit.Chem import rdchem"
   ]
  },
  {
   "cell_type": "markdown",
   "metadata": {
    "colab_type": "text",
    "id": "mUK3FSYPG2H2"
   },
   "source": [
    "## Global settings"
   ]
  },
  {
   "cell_type": "markdown",
   "metadata": {
    "colab_type": "text",
    "id": "1Y7LzIGgXswx"
   },
   "source": [
    "### Constants"
   ]
  },
  {
   "cell_type": "code",
   "execution_count": null,
   "metadata": {
    "colab": {},
    "colab_type": "code",
    "id": "EJki18x8XseM"
   },
   "outputs": [],
   "source": [
    "BOND_CHARS = '.-/\\\\:=#$'\n",
    "BOND_GEOMETRY_DICT = {'.': 0, '-': 0, ':': 0, '=': 0, '#': 0, '$': 0,\n",
    "                      '/': 1, '\\\\': 2}\n",
    "BOND_ORDER_DICT = {'-': 1.0, '/': 1.0, '\\\\': 1.0,\n",
    "                   '.': 0.5, ':': 1.5, '=': 2.0, '#': 3.0, '$': 4.0}\n",
    "CHIRAL_TAGS = ['', '@', '@@']\n",
    "FEATURE_MATRIX_COLUMN_NAMES = ['Atomic number', 'Aromaticity', 'Chirality',\n",
    "                               'Total-H-count', 'Degree', 'Ring membership',\n",
    "                               'Ring size', 'Valence', 'Connectivity',\n",
    "                               'Charge', 'Bond order', 'Bond geometry',\n",
    "                               'Branch length', 'Ring size']\n",
    "FULL_SMARTS_TEMPLATE = '[{}{}H{}D{}R{}r{}v{}X{}{}]\\n'\n",
    "PARENTHESIS_DICT = {'(': 1, ')': -1}\n",
    "SIGN_VISIBLE = '{0:+d}'\n",
    "SMILES_REGEX_PART_1 = r'(?:\\[.*?\\])|[\\-/\\\\:=#\\$\\.]|%\\d{2'\n",
    "SMILES_REGEX_PART_2 = r'}|\\d|[\\(\\)]'\n",
    "SMILES_REGEX_PART_2_DEEP = r',}|\\d|\\)+'"
   ]
  },
  {
   "cell_type": "markdown",
   "metadata": {
    "colab_type": "text",
    "id": "xJv0BwUN8qDi"
   },
   "source": [
    "### Classes and functions"
   ]
  },
  {
   "cell_type": "code",
   "execution_count": null,
   "metadata": {
    "colab": {},
    "colab_type": "code",
    "id": "OjKfSxX1GHS3"
   },
   "outputs": [],
   "source": [
    "# lambdas\n",
    "abs_if_true = lambda value, test: np.abs(value) if test else value\n",
    "aromatic = lambda atom: int(atom.GetIsAromatic())\n",
    "at_num = lambda atom: atom.GetAtomicNum()\n",
    "bond_order = lambda bond: BOND_ORDER_DICT[bond]\n",
    "bond_geometry = lambda bond: BOND_GEOMETRY_DICT[bond]\n",
    "charge = lambda atom: atom.GetFormalCharge()\n",
    "charge_tag = lambda atom: \\\n",
    "    re.sub('([\\+\\-])1', r'\\1', SIGN_VISIBLE.format(charge(atom))) \\\n",
    "    if charge(atom) else ''\n",
    "chiral = lambda atom: int(atom.GetChiralTag())\n",
    "chiral_tag = lambda atom: CHIRAL_TAGS[chiral(atom)]\n",
    "D = lambda atom: atom.GetDegree()\n",
    "H = lambda atom: atom.GetTotalNumHs()\n",
    "normalize_to_largest = lambda matrix, largest_len: \\\n",
    "    np.vstack((matrix, np.zeros((largest_len-matrix.shape[0], matrix.shape[1]),\n",
    "                                dtype=float)))\n",
    "parenthesis_count = lambda chars: \\\n",
    "    sum([PARENTHESIS_DICT[char] for char in chars])\n",
    "pop_start_char = lambda text, char: text[1:] if text[0] == char else text\n",
    "R = lambda smallest_rings: len(smallest_rings)\n",
    "r = lambda smallest_rings: \\\n",
    "    min(smallest_rings) if len(smallest_rings) > 0 else 0\n",
    "rebuild_smiles = lambda smiles, canonical, **properties: \\\n",
    "    Chem.MolToSmiles(Chem.MolFromSmiles(smiles), canonical=canonical,\n",
    "                     **properties)\n",
    "series_to_3d_array = lambda series: np.moveaxis(np.dstack(series), 2, 0)\n",
    "symbol = lambda atom: \\\n",
    "    atom.GetSymbol().lower() if atom.GetIsAromatic() else atom.GetSymbol()\n",
    "v = lambda atom: atom.GetTotalValence()\n",
    "X = lambda atom: atom.GetTotalDegree()"
   ]
  },
  {
   "cell_type": "code",
   "execution_count": null,
   "metadata": {
    "colab": {
     "base_uri": "https://localhost:8080/",
     "height": 469
    },
    "colab_type": "code",
    "id": "VEoISJMlQvKh",
    "outputId": "0fb42c5d-4fbd-4f71-e679-93ca8d56b177"
   },
   "outputs": [],
   "source": [
    "class SMIList(list):\n",
    "\n",
    "    \"\"\"SMILES as list of rdchem.Atom objects and other chars.\"\"\"\n",
    "\n",
    "    def __init__(self, smiles, canonical=True, deep=True, **properties):\n",
    "\n",
    "        self.__smiles = rebuild_smiles(smiles, canonical, **properties)\n",
    "        self.__canonical = canonical\n",
    "        self.__deep = deep\n",
    "\n",
    "        if deep:\n",
    "            self.__activate_deep_converter()\n",
    "\n",
    "        self.__properties = properties\n",
    "        self.__build()\n",
    "\n",
    "    def __repr__(self):\n",
    "\n",
    "        return str([f'<At.{component.GetSymbol()}>'\n",
    "                    if type(component) == rdchem.Atom else component\n",
    "                    for component in self])\n",
    "\n",
    "    def __str__(self):\n",
    "\n",
    "        rebuilt = rebuild_smiles(self.__smiles, canonical=self.__canonical,\n",
    "                                 **self.__properties)\n",
    "\n",
    "        return self.__deep_or_not(rebuilt)\n",
    "\n",
    "    def __activate_deep_converter(self):\n",
    "\n",
    "        self.__deep_converter = deepsmiles.Converter(branches=True, rings=True)\n",
    "\n",
    "    @staticmethod\n",
    "    def __atom_features(atom, functions, atom_index=None, ring_info=None):\n",
    "\n",
    "        target_dict = {'atom': atom}\n",
    "\n",
    "        if 'ring' in functions['targets']:\n",
    "            smallest_rings = [len(atom_tuple) for atom_tuple in ring_info\n",
    "                              if atom_index in atom_tuple]\n",
    "            target_dict.update({'ring': smallest_rings})\n",
    "\n",
    "        features = [function(target_dict[functions['targets'][index]])\n",
    "                    for index, function_list\n",
    "                    in enumerate(functions['groups'])\n",
    "                    for function in function_list]\n",
    "\n",
    "        return features\n",
    "\n",
    "    def __build(self):\n",
    "\n",
    "        self.clear()\n",
    "        mol = Chem.MolFromSmiles(self.__smiles)\n",
    "        atoms = [rdchem.Mol.GetAtomWithIdx(mol, atom_index)\n",
    "                 for atom_index in range(mol.GetNumAtoms())]\n",
    "        rebuilt = rebuild_smiles(self.__smiles, canonical=False,\n",
    "                                 allBondsExplicit=True, allHsExplicit=True)\n",
    "        explicit = self.__deep_or_not(rebuilt)\n",
    "\n",
    "        if self.__deep:\n",
    "            part_2 = SMILES_REGEX_PART_2_DEEP\n",
    "\n",
    "        else:\n",
    "            part_2 = SMILES_REGEX_PART_2\n",
    "\n",
    "        pattern = SMILES_REGEX_PART_1 + part_2\n",
    "        components = re.findall(pattern, explicit)\n",
    "        atom_index = 0\n",
    "\n",
    "        for component in components:\n",
    "\n",
    "            if component[0] == '[':\n",
    "                self.append(atoms[atom_index])\n",
    "                atom_index += 1\n",
    "\n",
    "            else:\n",
    "                self.append(component)\n",
    "\n",
    "    def __deep_or_not(self, smiles):\n",
    "\n",
    "        return self.__deep_converter.encode(smiles) if self.__deep else smiles\n",
    "\n",
    "    @staticmethod\n",
    "    def __features(component, functions):\n",
    "\n",
    "        return [function(component) for function in functions]\n",
    "\n",
    "    @property\n",
    "    def canonical(self):\n",
    "\n",
    "        return self.__canonical\n",
    "\n",
    "    @canonical.setter\n",
    "    def canonical(self, setting):\n",
    "\n",
    "        self.__canonical = setting\n",
    "        self.__smiles = rebuild_smiles(self.__smiles, setting)\n",
    "        self.__build()\n",
    "\n",
    "    @property\n",
    "    def deep(self):\n",
    "\n",
    "        return self.__deep\n",
    "\n",
    "    @deep.setter\n",
    "    def deep(self, setting):\n",
    "\n",
    "        if setting:\n",
    "            self.__activate_deep_converter()\n",
    "\n",
    "        self.__deep = setting\n",
    "        self.__build()\n",
    "\n",
    "    @property\n",
    "    def properties(self):\n",
    "\n",
    "        return self.__properties\n",
    "\n",
    "    @properties.setter\n",
    "    def properties(self, setting):\n",
    "\n",
    "        self.__properties = setting\n",
    "        self.__build()\n",
    "\n",
    "    @property\n",
    "    def smiles(self):\n",
    "\n",
    "        return self.__smiles\n",
    "\n",
    "    @smiles.setter\n",
    "    def smiles(self, setting):\n",
    "\n",
    "        self.__smiles = setting\n",
    "        self.__build()\n",
    "\n",
    "    @property\n",
    "    def str(self):\n",
    "\n",
    "        return self.__str__()\n",
    "\n",
    "    def to_full_smarts(self):\n",
    "\n",
    "        \"\"\"Convert SMIList to fullSMARTS string.\"\"\"\n",
    "\n",
    "        atom_functions = {'targets': ('atom', 'ring', 'atom'),\n",
    "                          'groups': ((symbol, chiral_tag, H, D),\n",
    "                                     (R, r),\n",
    "                                     (v, X, charge_tag))}\n",
    "        atom_index = 0\n",
    "        full_smarts = ''\n",
    "        mol = Chem.MolFromSmiles(self.__smiles)\n",
    "        ring_info = mol.GetRingInfo().AtomRings()\n",
    "\n",
    "        for component_index, component in enumerate(self):\n",
    "\n",
    "            if type(component) == rdchem.Atom:\n",
    "                atom_features = self.__atom_features(component, atom_functions,\n",
    "                                                     atom_index, ring_info)\n",
    "                full_smarts += FULL_SMARTS_TEMPLATE.format(*atom_features)\n",
    "                atom_index += 1\n",
    "\n",
    "            else:\n",
    "                full_smarts += component + '\\n'\n",
    "\n",
    "        return full_smarts\n",
    "\n",
    "    def to_matrix(self,\n",
    "                  atom_functions={'targets': ('atom', 'ring', 'atom'),\n",
    "                                  'groups': ((at_num, aromatic, chiral, H, D),\n",
    "                                             (R, r),\n",
    "                                             (v, X, charge))},\n",
    "                  bond_functions=(bond_order, bond_geometry),\n",
    "                  branch_functions=(parenthesis_count,),\n",
    "                  ring_functions=(lambda x: pop_start_char(x, '%'),)):\n",
    "\n",
    "        \"\"\"Convert SMIList to customizable feature matrix (numpy.ndarray).\"\"\"\n",
    "\n",
    "        atom_index = 0\n",
    "        mol = Chem.MolFromSmiles(self.__smiles)\n",
    "        ring_info = mol.GetRingInfo().AtomRings()\n",
    "\n",
    "        for component_index, component in enumerate(self):\n",
    "\n",
    "            if atom_functions and type(component) == rdchem.Atom:\n",
    "                atom_features = self.__atom_features(component, atom_functions,\n",
    "                                                     atom_index, ring_info)\n",
    "                all_features = np.hstack((np.array(atom_features, dtype=float),\n",
    "                                          np.zeros(4, dtype=float)))\n",
    "                atom_index += 1\n",
    "\n",
    "            elif bond_functions and component in BOND_CHARS:\n",
    "                bond_features = self.__features(component, bond_functions)\n",
    "                arrays = (np.zeros(len(atom_features), dtype=float),\n",
    "                          np.array(bond_features, dtype=float),\n",
    "                          np.zeros(2, dtype=float))\n",
    "                all_features = np.hstack(arrays)\n",
    "\n",
    "            elif branch_functions and component[0] in PARENTHESIS_DICT:\n",
    "                branch_features = self.__features(component, branch_functions)\n",
    "                arrays = (np.zeros(len(atom_features)+2, dtype=float),\n",
    "                          np.array(branch_features, dtype=float),\n",
    "                          np.zeros(1, dtype=float))\n",
    "                all_features = np.hstack(arrays)\n",
    "\n",
    "            elif ring_functions \\\n",
    "                    and (component[0].isdigit() or component[0] == '%'):\n",
    "                ring_features = self.__features(component, ring_functions)\n",
    "                arrays = (np.zeros(len(atom_features)+3, dtype=float),\n",
    "                          np.array(ring_features, dtype=float))\n",
    "                all_features = np.hstack(arrays)\n",
    "\n",
    "            if component_index == 0:\n",
    "                feature_matrix = all_features\n",
    "\n",
    "            else:\n",
    "                feature_matrix = np.vstack((feature_matrix, all_features))\n",
    "\n",
    "        return feature_matrix\n",
    "\n",
    "\n",
    "# DEMO\n",
    "acetone = 'CC(=O)C'\n",
    "smi = SMIList(acetone, canonical=True, deep=True, allBondsExplicit=True)\n",
    "print(smi.to_full_smarts())\n",
    "print(smi.to_matrix().shape)\n",
    "smi.to_matrix()"
   ]
  },
  {
   "cell_type": "markdown",
   "metadata": {
    "colab_type": "text",
    "id": "iQnKswMctJN4"
   },
   "source": [
    "## Main program"
   ]
  },
  {
   "cell_type": "markdown",
   "metadata": {
    "colab_type": "text",
    "id": "Sx_HVETIHLL_"
   },
   "source": [
    "### Data preparation"
   ]
  },
  {
   "cell_type": "code",
   "execution_count": null,
   "metadata": {
    "colab": {},
    "colab_type": "code",
    "id": "V1UDm5vl_HM0"
   },
   "outputs": [],
   "source": [
    "# load data set\n",
    "data = pd.read_csv('NR-PPAR-gamma_wholetraining.smiles', delimiter=' ',\n",
    "                   header=None, names=['SMILES', 'Activity'])\n",
    "\n",
    "# calculate 2D feature matrix (rows: atoms, columns: atom features)\n",
    "data['Feature matrix'] = data['SMILES'].apply(lambda x: SMIList(x).to_matrix())\n",
    "\n",
    "# normalize all matrices\n",
    "largest_matrix_len = data['Feature matrix'].str.len().max()\n",
    "data['Feature matrix'] = data['Feature matrix'].apply(\n",
    "    lambda x: normalize_to_largest(x, largest_matrix_len))"
   ]
  },
  {
   "cell_type": "code",
   "execution_count": null,
   "metadata": {
    "colab": {
     "base_uri": "https://localhost:8080/",
     "height": 597
    },
    "colab_type": "code",
    "id": "ZJmqp5VuNN67",
    "outputId": "9b158d17-f7d2-4994-e28d-4410e1389eba"
   },
   "outputs": [],
   "source": [
    "data"
   ]
  },
  {
   "cell_type": "code",
   "execution_count": null,
   "metadata": {
    "colab": {
     "base_uri": "https://localhost:8080/",
     "height": 808
    },
    "colab_type": "code",
    "id": "YRNcCrEFv8hC",
    "outputId": "0d98a907-370a-47a3-ea73-a5693a5c5820"
   },
   "outputs": [],
   "source": [
    "# quick preview of selected array\n",
    "print('Full SMARTS:', SMIList(data['SMILES'][1]).to_full_smarts(), sep='\\n')\n",
    "pd.DataFrame(data['Feature matrix'][1], columns=FEATURE_MATRIX_COLUMN_NAMES)"
   ]
  },
  {
   "cell_type": "code",
   "execution_count": null,
   "metadata": {
    "colab": {
     "base_uri": "https://localhost:8080/",
     "height": 34
    },
    "colab_type": "code",
    "id": "45aBjJzXxV_l",
    "outputId": "2d884f8b-64c1-4d54-8871-f6c6a0b7c8c8"
   },
   "outputs": [],
   "source": [
    "X = series_to_3d_array(data['Feature matrix'])\n",
    "X.shape"
   ]
  }
 ],
 "metadata": {
  "colab": {
   "collapsed_sections": [
    "tKqDhZmrRvNS"
   ],
   "name": "Kopia SMILearn.ipynb",
   "provenance": []
  },
  "kernelspec": {
   "display_name": "Python 3",
   "language": "python",
   "name": "python3"
  },
  "language_info": {
   "codemirror_mode": {
    "name": "ipython",
    "version": 3
   },
   "file_extension": ".py",
   "mimetype": "text/x-python",
   "name": "python",
   "nbconvert_exporter": "python",
   "pygments_lexer": "ipython3",
   "version": "3.7.4"
  }
 },
 "nbformat": 4,
 "nbformat_minor": 1
}
