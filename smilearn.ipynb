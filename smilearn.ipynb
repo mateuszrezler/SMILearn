{
 "cells": [
  {
   "cell_type": "markdown",
   "metadata": {},
   "source": [
    "# SMILearn vs TOX21\n",
    "Evaluation of toxicity prediction models based on SMILearn vectors"
   ]
  },
  {
   "cell_type": "markdown",
   "metadata": {},
   "source": [
    "## Prerequisites"
   ]
  },
  {
   "cell_type": "markdown",
   "metadata": {},
   "source": [
    "### Installations (Google Colab)\n",
    "This is an example of installation steps that allow this notebook to work properly in Google Colab environment.  \n",
    "In other cases, it is recommended to follow the instructions in `README.md` file and skip the cell below."
   ]
  },
  {
   "cell_type": "code",
   "execution_count": null,
   "metadata": {},
   "outputs": [],
   "source": [
    "# Save the output as `installation_log` variable\n",
    "%%capture installation_log\n",
    "\n",
    "# Install Miniconda\n",
    "!wget https://repo.continuum.io/miniconda/Miniconda3-latest-Linux-x86_64.sh\n",
    "!bash Miniconda3-latest-Linux-x86_64.sh -bfp /usr/local\n",
    "!rm Miniconda3-latest-Linux-x86_64.sh\n",
    "\n",
    "# Install RDKit\n",
    "!conda install -qyc conda-forge rdkit\n",
    "\n",
    "# Install DeepSMILES unofficial GitHub fork\n",
    "!pip install git+git://github.com/mateuszrezler/deepsmiles@master\n",
    "\n",
    "# Update system path\n",
    "import sys\n",
    "sys.path.append('/usr/local/lib/python3.7/site-packages')"
   ]
  },
  {
   "cell_type": "markdown",
   "metadata": {},
   "source": [
    "### Imports"
   ]
  },
  {
   "cell_type": "code",
   "execution_count": null,
   "metadata": {},
   "outputs": [],
   "source": [
    "import deepsmiles\n",
    "import numpy as np\n",
    "import pandas as pd\n",
    "import re\n",
    "from rdkit import Chem\n",
    "from rdkit.Chem import rdchem"
   ]
  },
  {
   "cell_type": "markdown",
   "metadata": {},
   "source": [
    "## Classes and functions"
   ]
  },
  {
   "cell_type": "code",
   "execution_count": null,
   "metadata": {},
   "outputs": [],
   "source": [
    "class SMIList(list):\n",
    "\n",
    "    \"\"\"SMILES as list of rdchem.Atom objects and other chars.\"\"\"\n",
    "\n",
    "    def __init__(self, value, is_deep=False, **properties):\n",
    "\n",
    "        self.__mol = mol_str_filter(value)\n",
    "        self.__is_deep = is_deep\n",
    "        self.__properties = properties\n",
    "        self.__build()\n",
    "\n",
    "    def __repr__(self):\n",
    "\n",
    "        return str([f'<Atom {component.GetSymbol()}>'\n",
    "                    if type(component) == rdchem.Atom\n",
    "                    else component for component in self])\n",
    "\n",
    "    def __str__(self):\n",
    "\n",
    "        return deep_filter(self.__is_deep, Chem.MolToSmiles(\n",
    "            self.__mol, **self.__properties))\n",
    "\n",
    "    def __build(self):\n",
    "\n",
    "        # self.clear()\n",
    "        atoms = [rdchem.Mol.GetAtomWithIdx(self.__mol, atom_index)\n",
    "                 for atom_index in range(self.__mol.GetNumAtoms())]\n",
    "        explicit = deep_filter(self.__is_deep, Chem.MolToSmiles(\n",
    "            self.__mol, allBondsExplicit=True, allHsExplicit=True))\n",
    "        if self.__is_deep:\n",
    "            parenthesis_pattern = r'\\)+'\n",
    "        else:\n",
    "            parenthesis_pattern = r'[\\(\\)]'\n",
    "        pattern = r'(?:\\[.*?\\])|[\\-/\\\\:=#\\d]|%\\d{2}|' + parenthesis_pattern\n",
    "        components = re.findall(pattern, explicit)\n",
    "        atom_index = 0\n",
    "\n",
    "        for component in components:\n",
    "\n",
    "            if component[0] == '[':\n",
    "                self.append(atoms[atom_index])\n",
    "                atom_index += 1\n",
    "\n",
    "            else:\n",
    "                self.append(component)\n",
    "\n",
    "\n",
    "def deep_filter(is_deep, smiles):\n",
    "\n",
    "    \"\"\"Convert SMILES to DeepSMILES if `is_deep == True` or do nothing.\"\"\"\n",
    "\n",
    "    if is_deep:\n",
    "        converter = deepsmiles.Converter(branches=True, rings=True)\n",
    "\n",
    "        return converter.encode(smiles)\n",
    "\n",
    "    return smiles\n",
    "\n",
    "\n",
    "def mol_str_filter(value):\n",
    "\n",
    "    \"\"\"Convert SMILES to rdchem.Mol or do nothing.\"\"\"\n",
    "\n",
    "    if type(value) == str:\n",
    "\n",
    "        return Chem.MolFromSmiles(value)\n",
    "\n",
    "    elif type(value) == rdchem.Mol:\n",
    "\n",
    "        return value\n",
    "\n",
    "\n",
    "# test\n",
    "smi = SMIList('O[C@H]1[C@H](C(C)C)CC[C@@H](C)C1', is_deep=True)\n",
    "smi"
   ]
  }
 ],
 "metadata": {
  "kernelspec": {
   "display_name": "Python 3",
   "language": "python",
   "name": "python3"
  },
  "language_info": {
   "codemirror_mode": {
    "name": "ipython",
    "version": 3
   },
   "file_extension": ".py",
   "mimetype": "text/x-python",
   "name": "python",
   "nbconvert_exporter": "python",
   "pygments_lexer": "ipython3",
   "version": "3.7.4"
  }
 },
 "nbformat": 4,
 "nbformat_minor": 2
}
