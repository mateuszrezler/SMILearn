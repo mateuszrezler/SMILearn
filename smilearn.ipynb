{
 "cells": [
  {
   "cell_type": "markdown",
   "metadata": {},
   "source": [
    "# Preparation of the environment"
   ]
  },
  {
   "cell_type": "markdown",
   "metadata": {},
   "source": [
    "## Imports from the Python Standard Library"
   ]
  },
  {
   "cell_type": "code",
   "execution_count": null,
   "metadata": {},
   "outputs": [],
   "source": [
    "import sys"
   ]
  },
  {
   "cell_type": "markdown",
   "metadata": {},
   "source": [
    "## Installations"
   ]
  },
  {
   "cell_type": "code",
   "execution_count": null,
   "metadata": {},
   "outputs": [],
   "source": [
    "%%capture installation_log\n",
    "# Miniconda\n",
    "!wget https://repo.continuum.io/miniconda/Miniconda3-latest-Linux-x86_64.sh\n",
    "!bash Miniconda3-latest-Linux-x86_64.sh -bfp /usr/local\n",
    "!rm Miniconda3-latest-Linux-x86_64.sh\n",
    "# RDKit\n",
    "!conda install -qyc conda-forge rdkit\n",
    "# DeepSMILES\n",
    "#23456789|123456789|123456789|123456789|123456789|123456789|123456789|123456789\n",
    "!wget https://raw.githubusercontent.com/mateuszrezler/deepsmiles/master/\\\n",
    "    deepsmiles/encode.py\n",
    "# Update system path\n",
    "sys.path.append('/usr/local/lib/python3.7/site-packages/')"
   ]
  }
 ],
 "metadata": {
  "kernelspec": {
   "display_name": "Python 3",
   "language": "python",
   "name": "python3"
  },
  "language_info": {
   "codemirror_mode": {
    "name": "ipython",
    "version": 3
   },
   "file_extension": ".py",
   "mimetype": "text/x-python",
   "name": "python",
   "nbconvert_exporter": "python",
   "pygments_lexer": "ipython3",
   "version": "3.7.4"
  }
 },
 "nbformat": 4,
 "nbformat_minor": 2
}
