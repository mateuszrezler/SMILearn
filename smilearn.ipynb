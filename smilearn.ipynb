{
 "cells": [
  {
   "cell_type": "markdown",
   "metadata": {},
   "source": [
    "# SMILearn vs TOX21\n",
    "Evaluation of toxicity prediction models based on SMILearn vectors"
   ]
  },
  {
   "cell_type": "markdown",
   "metadata": {},
   "source": [
    "## Prerequisites"
   ]
  },
  {
   "cell_type": "markdown",
   "metadata": {},
   "source": [
    "### Installations (Google Colab)\n",
    "This is an example of installation steps that allow this notebook to work properly in Google Colab environment.  \n",
    "In other cases, it is recommended to follow the instructions in `README.md` file and skip the cell below."
   ]
  },
  {
   "cell_type": "code",
   "execution_count": null,
   "metadata": {},
   "outputs": [],
   "source": [
    "# Save the output as `installation_log` variable\n",
    "%%capture installation_log\n",
    "\n",
    "# Install Miniconda\n",
    "!wget https://repo.continuum.io/miniconda/Miniconda3-latest-Linux-x86_64.sh\n",
    "!bash Miniconda3-latest-Linux-x86_64.sh -bfp /usr/local\n",
    "!rm Miniconda3-latest-Linux-x86_64.sh\n",
    "\n",
    "# Install RDKit\n",
    "!conda install -qyc conda-forge rdkit\n",
    "\n",
    "# Install DeepSMILES unofficial GitHub fork\n",
    "!pip install git+git://github.com/mateuszrezler/deepsmiles@master\n",
    "\n",
    "# Update system path\n",
    "import sys\n",
    "sys.path.append('/usr/local/lib/python3.7/site-packages')"
   ]
  },
  {
   "cell_type": "markdown",
   "metadata": {},
   "source": [
    "### Imports"
   ]
  },
  {
   "cell_type": "code",
   "execution_count": null,
   "metadata": {},
   "outputs": [],
   "source": [
    "import deepsmiles\n",
    "import numpy as np\n",
    "import pandas as pd\n",
    "import re\n",
    "from rdkit import Chem\n",
    "from rdkit.Chem import rdchem"
   ]
  }
 ],
 "metadata": {
  "kernelspec": {
   "display_name": "Python 3",
   "language": "python",
   "name": "python3"
  },
  "language_info": {
   "codemirror_mode": {
    "name": "ipython",
    "version": 3
   },
   "file_extension": ".py",
   "mimetype": "text/x-python",
   "name": "python",
   "nbconvert_exporter": "python",
   "pygments_lexer": "ipython3",
   "version": "3.7.4"
  }
 },
 "nbformat": 4,
 "nbformat_minor": 2
}
